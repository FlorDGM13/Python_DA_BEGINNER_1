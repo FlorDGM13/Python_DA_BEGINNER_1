{
  "nbformat": 4,
  "nbformat_minor": 0,
  "metadata": {
    "colab": {
      "provenance": [],
      "collapsed_sections": [
        "WxEf7cEGz6_4",
        "JVQFUXWuBpzk",
        "ARx5Zx_v2yEI",
        "zwGLv-Yv7056",
        "OYzmBVFi-GpY",
        "x3NT_eAD-6Iy",
        "zsrJWFwvCLUu",
        "kFFwFZ7DLsyg",
        "cs21F18UwUj7",
        "Y6nq7uq_43uy",
        "x7DdH3-PKc-q",
        "bQnaho5iee5U",
        "nHdKFgo9ojuq",
        "vdpvakndtG2V",
        "V0RMyN-rxvSW",
        "fghZyJ6UJUww",
        "mTKddOU2kVZX",
        "DZTwUF6ZmNmt",
        "plA2R9ymngnA",
        "3JF4Xgz00QyI",
        "KVG7QM_lcozW",
        "pp_Q2uIfkL-s",
        "YPxB0GvMtvVm",
        "--inPcIZ0ZBf"
      ],
      "toc_visible": true,
      "authorship_tag": "ABX9TyNjdIFsX2xjjUTtirzxtemg",
      "include_colab_link": true
    },
    "kernelspec": {
      "name": "python3",
      "display_name": "Python 3"
    },
    "language_info": {
      "name": "python"
    }
  },
  "cells": [
    {
      "cell_type": "markdown",
      "metadata": {
        "id": "view-in-github",
        "colab_type": "text"
      },
      "source": [
        "<a href=\"https://colab.research.google.com/github/FlorDGM13/Python_DA_BEGINNER_1/blob/main/PAYTHON_DA_BEGGINNER_1.ipynb\" target=\"_parent\"><img src=\"https://colab.research.google.com/assets/colab-badge.svg\" alt=\"Open In Colab\"/></a>"
      ]
    },
    {
      "cell_type": "markdown",
      "source": [
        "##PYTHON\n"
      ],
      "metadata": {
        "id": "WxEf7cEGz6_4"
      }
    },
    {
      "cell_type": "code",
      "execution_count": null,
      "metadata": {
        "colab": {
          "base_uri": "https://localhost:8080/"
        },
        "id": "9_ltdarbzEEI",
        "outputId": "8a1554a5-e8e5-4371-820e-832e7158789f"
      },
      "outputs": [
        {
          "output_type": "stream",
          "name": "stdout",
          "text": [
            "Python 3.11.11\n"
          ]
        }
      ],
      "source": [
        "!python -V"
      ]
    },
    {
      "cell_type": "markdown",
      "source": [
        "##variables"
      ],
      "metadata": {
        "id": "JVQFUXWuBpzk"
      }
    },
    {
      "cell_type": "code",
      "source": [
        "#variables:se crean cuando se asignan un valor\n",
        "\n",
        "x = 5\n",
        "y = \"hola\"\n",
        "print(x)\n",
        "print(y)"
      ],
      "metadata": {
        "colab": {
          "base_uri": "https://localhost:8080/"
        },
        "id": "rNwKf6gwBk7k",
        "outputId": "ae7d1542-69b4-40ab-ca38-7fd488285f48"
      },
      "execution_count": null,
      "outputs": [
        {
          "output_type": "stream",
          "name": "stdout",
          "text": [
            "5\n",
            "hola\n"
          ]
        }
      ]
    },
    {
      "cell_type": "markdown",
      "source": [
        "conversio de variables"
      ],
      "metadata": {
        "id": "y2qhSiXPCgi8"
      }
    },
    {
      "cell_type": "code",
      "source": [
        "x = str(3) # x will be '3'\n",
        "y = int(3) # y will be 3\n",
        "z = float(3) #z will be 3.0\n",
        "print(x)\n",
        "print(y)\n",
        "print(z)"
      ],
      "metadata": {
        "colab": {
          "base_uri": "https://localhost:8080/"
        },
        "id": "CELeMcPQCjZe",
        "outputId": "5fae321d-94a6-491c-db17-9910a036b18d"
      },
      "execution_count": null,
      "outputs": [
        {
          "output_type": "stream",
          "name": "stdout",
          "text": [
            "3\n",
            "3\n",
            "3.0\n"
          ]
        }
      ]
    },
    {
      "cell_type": "markdown",
      "source": [
        "obtener el tipo de dato con type()"
      ],
      "metadata": {
        "id": "0C8QWowtDGSe"
      }
    },
    {
      "cell_type": "code",
      "source": [
        "x = 5\n",
        "y = \"john\"\n",
        "print(type(x))\n",
        "print(type(y))"
      ],
      "metadata": {
        "colab": {
          "base_uri": "https://localhost:8080/"
        },
        "id": "Co97OZaLDFwf",
        "outputId": "bf1eb187-a58f-46a6-eca0-6e58dd8bf6a5"
      },
      "execution_count": null,
      "outputs": [
        {
          "output_type": "stream",
          "name": "stdout",
          "text": [
            "<class 'int'>\n",
            "<class 'str'>\n"
          ]
        }
      ]
    },
    {
      "cell_type": "markdown",
      "source": [
        "muchs valores para multiples variables"
      ],
      "metadata": {
        "id": "yDM4_0fmEBJJ"
      }
    },
    {
      "cell_type": "code",
      "source": [
        "x,y,z = \"orange\",\"banana\",\"cherry\"\n",
        "print(x)\n",
        "print(y)\n",
        "print(z)"
      ],
      "metadata": {
        "colab": {
          "base_uri": "https://localhost:8080/"
        },
        "id": "86yr7BEGDSMG",
        "outputId": "e6e2dd54-5ca3-4854-f5a5-55ccd862ee72"
      },
      "execution_count": null,
      "outputs": [
        {
          "output_type": "stream",
          "name": "stdout",
          "text": [
            "orange\n",
            "banana\n",
            "cherry\n"
          ]
        }
      ]
    },
    {
      "cell_type": "markdown",
      "source": [
        "un valor para multiples variables"
      ],
      "metadata": {
        "id": "OfKho6N_EO8M"
      }
    },
    {
      "cell_type": "code",
      "source": [
        "x = y = z = \"orange\"\n",
        "print(x)\n",
        "print(y)\n",
        "print(z)"
      ],
      "metadata": {
        "colab": {
          "base_uri": "https://localhost:8080/"
        },
        "id": "0BG0fSX3EUJ1",
        "outputId": "e9657028-8908-4031-e005-71480843e225"
      },
      "execution_count": null,
      "outputs": [
        {
          "output_type": "stream",
          "name": "stdout",
          "text": [
            "orange\n",
            "orange\n",
            "orange\n"
          ]
        }
      ]
    },
    {
      "cell_type": "markdown",
      "source": [
        "Desempaquetar una coleccion"
      ],
      "metadata": {
        "id": "k-kjrriXEgN0"
      }
    },
    {
      "cell_type": "code",
      "source": [
        "#si tienes una coleccion de valores en una lista, tupla etc python te permitira extraer los valores en variables\n",
        "# a esto se le llama DESEMPACAR\n",
        "fruits = [\"apple\",\"banana\",\"cherry\"]\n",
        "x,y,z = fruits\n",
        "print(x)\n",
        "print(y)\n",
        "print(z)"
      ],
      "metadata": {
        "colab": {
          "base_uri": "https://localhost:8080/"
        },
        "id": "EVnjtbuZEYx2",
        "outputId": "7d911f99-fd8f-4019-993b-481ef61e2981"
      },
      "execution_count": null,
      "outputs": [
        {
          "output_type": "stream",
          "name": "stdout",
          "text": [
            "apple\n",
            "banana\n",
            "cherry\n"
          ]
        }
      ]
    },
    {
      "cell_type": "code",
      "source": [
        "#convertir de un tipo de dato a otro\n",
        "x = 1\n",
        "y = 2.8\n",
        "z = 1j\n",
        "a = float(x)\n",
        "b = int(y)\n",
        "c = complex(x)\n",
        "print(a)\n",
        "print(b)\n",
        "print(c)\n",
        "#NOTA: no se puede convertir un numoer complejo en otro tipo"
      ],
      "metadata": {
        "colab": {
          "base_uri": "https://localhost:8080/"
        },
        "id": "H-cKtBVDK9ia",
        "outputId": "be3a41f0-f2b8-4057-fb3e-5ea2f6b02362"
      },
      "execution_count": null,
      "outputs": [
        {
          "output_type": "stream",
          "name": "stdout",
          "text": [
            "1.0\n",
            "2\n",
            "(1+0j)\n"
          ]
        }
      ]
    },
    {
      "cell_type": "markdown",
      "source": [
        "##CADENAS"
      ],
      "metadata": {
        "id": "ARx5Zx_v2yEI"
      }
    },
    {
      "cell_type": "markdown",
      "source": [
        "bucle de una cadena con for"
      ],
      "metadata": {
        "id": "NN167dLT4DS9"
      }
    },
    {
      "cell_type": "code",
      "source": [
        "#recorrer los caracteres de una cadena mediante for\n",
        "for x in \"banana\":\n",
        "  print(x)"
      ],
      "metadata": {
        "colab": {
          "base_uri": "https://localhost:8080/"
        },
        "id": "OHUJg6F_205h",
        "outputId": "d943a9d0-6c74-4a89-cd1f-7fbd51537734"
      },
      "execution_count": null,
      "outputs": [
        {
          "output_type": "stream",
          "name": "stdout",
          "text": [
            "b\n",
            "a\n",
            "n\n",
            "a\n",
            "n\n",
            "a\n"
          ]
        }
      ]
    },
    {
      "cell_type": "markdown",
      "source": [
        "longitud de duna cadena"
      ],
      "metadata": {
        "id": "QnoNjfqu4LWo"
      }
    },
    {
      "cell_type": "code",
      "source": [
        "#LEN\n",
        "a = \"hello, world!\"\n",
        "print(len(a))"
      ],
      "metadata": {
        "colab": {
          "base_uri": "https://localhost:8080/"
        },
        "id": "kp-UqYpU4Nq5",
        "outputId": "5883fb5f-f0f3-48a0-b82a-b66bce98c190"
      },
      "execution_count": null,
      "outputs": [
        {
          "output_type": "stream",
          "name": "stdout",
          "text": [
            "13\n"
          ]
        }
      ]
    },
    {
      "cell_type": "markdown",
      "source": [
        "recorrer cadenas"
      ],
      "metadata": {
        "id": "hk7LrO8L4q18"
      }
    },
    {
      "cell_type": "code",
      "source": [
        "#busqueda en cadenas\n",
        "\n",
        "a = \"    the best things in life are free!\"\n",
        "print(\"free\" in a)"
      ],
      "metadata": {
        "colab": {
          "base_uri": "https://localhost:8080/"
        },
        "id": "NjWyr8Xwz6Yd",
        "outputId": "bb9f8422-d837-4d37-e677-24dc7bde45af"
      },
      "execution_count": null,
      "outputs": [
        {
          "output_type": "stream",
          "name": "stdout",
          "text": [
            "True\n"
          ]
        }
      ]
    },
    {
      "cell_type": "code",
      "source": [
        "txt = \"The best things in life are free!\"\n",
        "if \"free\" in txt:\n",
        "  print(\"Yes, 'free' is present.\")"
      ],
      "metadata": {
        "colab": {
          "base_uri": "https://localhost:8080/"
        },
        "id": "sAWe20q94yNw",
        "outputId": "d3ea7e34-9805-4496-b878-06595972caa2"
      },
      "execution_count": null,
      "outputs": [
        {
          "output_type": "stream",
          "name": "stdout",
          "text": [
            "Yes, 'free' is present.\n"
          ]
        }
      ]
    },
    {
      "cell_type": "markdown",
      "source": [
        "check if not"
      ],
      "metadata": {
        "id": "UKMmqYqH502e"
      }
    },
    {
      "cell_type": "code",
      "source": [
        "txt = \"The best things in life are free!\"\n",
        "if \"expensive\" not in txt:\n",
        "  print(\"No, 'expensive' is NOT present.\")"
      ],
      "metadata": {
        "colab": {
          "base_uri": "https://localhost:8080/"
        },
        "id": "dcHBAhk65yz8",
        "outputId": "78adc443-4324-4da3-f063-bc620a6f76f8"
      },
      "execution_count": null,
      "outputs": [
        {
          "output_type": "stream",
          "name": "stdout",
          "text": [
            "No, 'expensive' is NOT present.\n"
          ]
        }
      ]
    },
    {
      "cell_type": "markdown",
      "source": [
        "segmentacion de cadenas"
      ],
      "metadata": {
        "id": "KSXlmgdE6Cj9"
      }
    },
    {
      "cell_type": "code",
      "source": [
        "#slicing\n",
        "b = \"hello, world!\"\n",
        "print(b[2:5])"
      ],
      "metadata": {
        "colab": {
          "base_uri": "https://localhost:8080/"
        },
        "id": "uKpXt55G6FE0",
        "outputId": "b0a2efbb-f614-49df-9b97-1e7233758a06"
      },
      "execution_count": null,
      "outputs": [
        {
          "output_type": "stream",
          "name": "stdout",
          "text": [
            "llo\n"
          ]
        }
      ]
    },
    {
      "cell_type": "code",
      "source": [
        "#cortar desde el principio\n",
        "b = \"hello, world!\"\n",
        "print(b[:5])"
      ],
      "metadata": {
        "colab": {
          "base_uri": "https://localhost:8080/"
        },
        "id": "ilYLYFIy64K9",
        "outputId": "43361df6-ab8e-40ce-a838-ddb9c93f7ba8"
      },
      "execution_count": null,
      "outputs": [
        {
          "output_type": "stream",
          "name": "stdout",
          "text": [
            "hello\n"
          ]
        }
      ]
    },
    {
      "cell_type": "code",
      "source": [
        "#cortar hasta el final\n",
        "b = \"hello, world!\"\n",
        "print(b[2:])"
      ],
      "metadata": {
        "colab": {
          "base_uri": "https://localhost:8080/"
        },
        "id": "BfBfGGcd6___",
        "outputId": "6600e464-d0f9-4d82-f698-16897ca60a1d"
      },
      "execution_count": null,
      "outputs": [
        {
          "output_type": "stream",
          "name": "stdout",
          "text": [
            "llo, world!\n"
          ]
        }
      ]
    },
    {
      "cell_type": "markdown",
      "source": [
        "indexacion negativa"
      ],
      "metadata": {
        "id": "F4tlaHF_7K1Z"
      }
    },
    {
      "cell_type": "code",
      "source": [
        "b = \"hello, world!\"\n",
        "print(b[-5:-2])"
      ],
      "metadata": {
        "colab": {
          "base_uri": "https://localhost:8080/"
        },
        "id": "w0lyOzS37Mv1",
        "outputId": "4f697fe3-f4ac-4cbd-ecec-8418cd92b7c4"
      },
      "execution_count": null,
      "outputs": [
        {
          "output_type": "stream",
          "name": "stdout",
          "text": [
            "orl\n"
          ]
        }
      ]
    },
    {
      "cell_type": "markdown",
      "source": [
        "modificacion de cadenas"
      ],
      "metadata": {
        "id": "oLMll80T7ghc"
      }
    },
    {
      "cell_type": "markdown",
      "source": [
        "##METODOS CADENAS"
      ],
      "metadata": {
        "id": "zwGLv-Yv7056"
      }
    },
    {
      "cell_type": "code",
      "source": [
        "#mayusculas\n",
        "a = \"hello, world!\"\n",
        "print(a.upper())"
      ],
      "metadata": {
        "colab": {
          "base_uri": "https://localhost:8080/"
        },
        "id": "4odOHMNG7gF0",
        "outputId": "4a08c5d4-b42b-4b18-b90c-17ccf5ed0fd2"
      },
      "execution_count": null,
      "outputs": [
        {
          "output_type": "stream",
          "name": "stdout",
          "text": [
            "HELLO, WORLD!\n"
          ]
        }
      ]
    },
    {
      "cell_type": "code",
      "source": [
        "#minusculas\n",
        "a = \"HELLO, WORLD!\"\n",
        "print(a.lower())"
      ],
      "metadata": {
        "colab": {
          "base_uri": "https://localhost:8080/"
        },
        "id": "3BThEoMq8ABx",
        "outputId": "7da442c0-d482-4de3-d944-adc3f0da82a3"
      },
      "execution_count": null,
      "outputs": [
        {
          "output_type": "stream",
          "name": "stdout",
          "text": [
            "hello, world!\n"
          ]
        }
      ]
    },
    {
      "cell_type": "code",
      "source": [
        "#eliminar espacios en blanco\n",
        "a = \" hello, world! \"\n",
        "print(a.strip())"
      ],
      "metadata": {
        "colab": {
          "base_uri": "https://localhost:8080/"
        },
        "id": "lqxQ2LKL8DBI",
        "outputId": "683663a4-8de3-481b-e5e3-dd72fbd49ad7"
      },
      "execution_count": null,
      "outputs": [
        {
          "output_type": "stream",
          "name": "stdout",
          "text": [
            "hello, world!\n"
          ]
        }
      ]
    },
    {
      "cell_type": "code",
      "source": [
        "#remplezar cadenas con otras\n",
        "a = \"hello, world!\"\n",
        "print(a.replace(\"hello\",\"hola\"))"
      ],
      "metadata": {
        "colab": {
          "base_uri": "https://localhost:8080/"
        },
        "id": "FR_a4uzO8vXa",
        "outputId": "e9cabb1c-910e-432c-9281-70ef878d8c48"
      },
      "execution_count": null,
      "outputs": [
        {
          "output_type": "stream",
          "name": "stdout",
          "text": [
            "hola, world!\n"
          ]
        }
      ]
    },
    {
      "cell_type": "code",
      "source": [
        "#devolver una lista donde el texto entre el separador\n",
        "#especificado se convierte en los elementos de la lista\n",
        "a = \"Hello, World!\"\n",
        "print(a.split(\",\")) #returns ['Hello',   'world']"
      ],
      "metadata": {
        "colab": {
          "base_uri": "https://localhost:8080/"
        },
        "id": "ZPBBDfu28z4b",
        "outputId": "28933d9e-d056-478f-8500-fb9571068edc"
      },
      "execution_count": null,
      "outputs": [
        {
          "output_type": "stream",
          "name": "stdout",
          "text": [
            "['Hello', ' World!']\n"
          ]
        }
      ]
    },
    {
      "cell_type": "markdown",
      "source": [
        "##CONCATENACION DE CADENAS"
      ],
      "metadata": {
        "id": "OYzmBVFi-GpY"
      }
    },
    {
      "cell_type": "code",
      "source": [
        "#usando el operador +\n",
        "a = \"hello\"\n",
        "b = \"world\"\n",
        "c = a + \" \" + b\n",
        "print(c)"
      ],
      "metadata": {
        "colab": {
          "base_uri": "https://localhost:8080/"
        },
        "id": "TD-CrDUA-KE2",
        "outputId": "df9e893a-9996-4a77-f598-a1593165d620"
      },
      "execution_count": null,
      "outputs": [
        {
          "output_type": "stream",
          "name": "stdout",
          "text": [
            "hello world\n"
          ]
        }
      ]
    },
    {
      "cell_type": "markdown",
      "source": [
        "##FORMATO DE CADENA"
      ],
      "metadata": {
        "id": "x3NT_eAD-6Iy"
      }
    },
    {
      "cell_type": "code",
      "source": [
        "#podemos combinar cadenas y numeros utilizanfo f.strings o\n",
        "age = 36\n",
        "txt = f\"My name is John, and I am {age}\"\n",
        "print(txt)"
      ],
      "metadata": {
        "colab": {
          "base_uri": "https://localhost:8080/"
        },
        "id": "0EHmMZjL-8Zt",
        "outputId": "037c6f24-10ef-42b4-8848-75e3c4b0a349"
      },
      "execution_count": null,
      "outputs": [
        {
          "output_type": "stream",
          "name": "stdout",
          "text": [
            "My name is John, and I am 36\n"
          ]
        }
      ]
    },
    {
      "cell_type": "code",
      "source": [
        "#format metodo\n",
        "age = 36\n",
        "txt = \"My name is John, and I am {}\"\n",
        "print(txt.format(age))"
      ],
      "metadata": {
        "colab": {
          "base_uri": "https://localhost:8080/"
        },
        "id": "Buu5xOGDAgVI",
        "outputId": "cbf04120-d395-461c-8176-20acb6781a2a"
      },
      "execution_count": null,
      "outputs": [
        {
          "output_type": "stream",
          "name": "stdout",
          "text": [
            "My name is John, and I am 36\n"
          ]
        }
      ]
    },
    {
      "cell_type": "markdown",
      "source": [
        "marcadores de posicion"
      ],
      "metadata": {
        "id": "a-6g0AV7A3ba"
      }
    },
    {
      "cell_type": "code",
      "source": [
        "price = 49\n",
        "txt = f\"The price is {price} dollars\"\n",
        "print(txt)"
      ],
      "metadata": {
        "colab": {
          "base_uri": "https://localhost:8080/"
        },
        "id": "FE1aTjAvA5cl",
        "outputId": "52d9f17d-e997-4fe5-a829-b582d637122d"
      },
      "execution_count": null,
      "outputs": [
        {
          "output_type": "stream",
          "name": "stdout",
          "text": [
            "The price is 49 dollars\n"
          ]
        }
      ]
    },
    {
      "cell_type": "code",
      "source": [
        "#incluyendo un modificador para formatear el valor\n",
        "price = 49\n",
        "txt = f\"The price is {price:.2f} dollars\"\n",
        "print(txt)"
      ],
      "metadata": {
        "colab": {
          "base_uri": "https://localhost:8080/"
        },
        "id": "g-v6HXz2BeFV",
        "outputId": "c8e4a94a-2720-499f-fe6a-8686ee292cf7"
      },
      "execution_count": null,
      "outputs": [
        {
          "output_type": "stream",
          "name": "stdout",
          "text": [
            "The price is 49.00 dollars\n"
          ]
        }
      ]
    },
    {
      "cell_type": "code",
      "source": [
        "#con codigo python como operacioes matematicas\n",
        "txt = f\"the price is {20 * 59} dollars\"\n",
        "print(txt)"
      ],
      "metadata": {
        "colab": {
          "base_uri": "https://localhost:8080/"
        },
        "id": "w41EWgTsB3u2",
        "outputId": "d488c4fb-0970-4e87-a12e-3e8d0ab9b731"
      },
      "execution_count": null,
      "outputs": [
        {
          "output_type": "stream",
          "name": "stdout",
          "text": [
            "the price is 1180 dollars\n"
          ]
        }
      ]
    },
    {
      "cell_type": "markdown",
      "source": [
        "##CARACTERES DE ESCAPE"
      ],
      "metadata": {
        "id": "zsrJWFwvCLUu"
      }
    },
    {
      "cell_type": "code",
      "source": [
        "txt = \"We are the so-called \\\"Vikings\\\" from the north.\"\n",
        "print(txt)"
      ],
      "metadata": {
        "id": "wU6m9EM9CIST",
        "colab": {
          "base_uri": "https://localhost:8080/"
        },
        "outputId": "2f290084-fafe-4ce5-bc40-fbc0f02b9695"
      },
      "execution_count": null,
      "outputs": [
        {
          "output_type": "stream",
          "name": "stdout",
          "text": [
            "We are the so-called \"Vikings\" from the north.\n"
          ]
        }
      ]
    },
    {
      "cell_type": "markdown",
      "source": [
        "##VALORES BOOLEANOS DE PYTHON"
      ],
      "metadata": {
        "id": "kFFwFZ7DLsyg"
      }
    },
    {
      "cell_type": "code",
      "source": [
        "#Cuando comparas dos valores, se evalua la espresion y python devulve la\n",
        "#respuesta booleana:\n",
        "print(10 > 9)\n",
        "print(10 == 9)\n",
        "print(10 < 9)"
      ],
      "metadata": {
        "id": "Nk_Ug_MgLxQF",
        "colab": {
          "base_uri": "https://localhost:8080/"
        },
        "outputId": "cdc4b6b5-fee1-4e00-a606-27fd323958b2"
      },
      "execution_count": null,
      "outputs": [
        {
          "output_type": "stream",
          "name": "stdout",
          "text": [
            "True\n",
            "False\n",
            "False\n"
          ]
        }
      ]
    },
    {
      "cell_type": "code",
      "source": [
        "#cuando se ejecuta una condicion en una declaracion if pythin devulve\n",
        "#True o False:\n",
        "a = 200\n",
        "b = 33\n",
        "if b > a:\n",
        "  print(\"b is greater than a\")\n",
        "else:\n",
        "  print(\"b is not greater than a\")"
      ],
      "metadata": {
        "colab": {
          "base_uri": "https://localhost:8080/"
        },
        "id": "KTnj9Ex9rna2",
        "outputId": "c6caa552-3265-4f65-f14d-4cbc2fe1f8e6"
      },
      "execution_count": null,
      "outputs": [
        {
          "output_type": "stream",
          "name": "stdout",
          "text": [
            "b is not greater than a\n"
          ]
        }
      ]
    },
    {
      "cell_type": "markdown",
      "source": [
        "\n",
        "\n",
        "*   Evaluar valores y variables\n",
        "\n",
        "\n",
        "\n"
      ],
      "metadata": {
        "id": "L54l1Gx5r3eL"
      }
    },
    {
      "cell_type": "code",
      "source": [
        "#Evaluar una cadena y un numero:\n",
        "print(bool(\"hello\"))\n",
        "print(bool(15))"
      ],
      "metadata": {
        "colab": {
          "base_uri": "https://localhost:8080/"
        },
        "id": "pyBwHOi7r1_A",
        "outputId": "9523a6de-f94d-47aa-81e2-e0e0ea083040"
      },
      "execution_count": null,
      "outputs": [
        {
          "output_type": "stream",
          "name": "stdout",
          "text": [
            "True\n",
            "True\n"
          ]
        }
      ]
    },
    {
      "cell_type": "code",
      "source": [
        "#Evaluar dos variables\n",
        "x = \"hello\"\n",
        "y = 15\n",
        "print(bool(x))\n",
        "print(bool(y))"
      ],
      "metadata": {
        "colab": {
          "base_uri": "https://localhost:8080/"
        },
        "id": "fpfY0GpvsaNt",
        "outputId": "6d2ab9c6-e578-43fb-df55-1e096d671523"
      },
      "execution_count": null,
      "outputs": [
        {
          "output_type": "stream",
          "name": "stdout",
          "text": [
            "True\n",
            "True\n"
          ]
        }
      ]
    },
    {
      "cell_type": "markdown",
      "source": [
        "\n",
        "\n",
        "*   La mayoria de los valores son verdaderos\n",
        "\n"
      ],
      "metadata": {
        "id": "IctrRPZPtEGk"
      }
    },
    {
      "cell_type": "code",
      "source": [
        "#lo siguiente devolvera verdadero:\n",
        "bool(\"abc\")\n",
        "bool(123)\n",
        "bool([\"apple\", \"cherry\", \"banana\"])"
      ],
      "metadata": {
        "colab": {
          "base_uri": "https://localhost:8080/"
        },
        "id": "j8QxWWndtKRr",
        "outputId": "e5d39040-5f65-4a79-b66c-afa61dc317ef"
      },
      "execution_count": null,
      "outputs": [
        {
          "output_type": "execute_result",
          "data": {
            "text/plain": [
              "True"
            ]
          },
          "metadata": {},
          "execution_count": 150
        }
      ]
    },
    {
      "cell_type": "markdown",
      "source": [
        "\n",
        "\n",
        "*  Algunos valores son falsos\n",
        "\n"
      ],
      "metadata": {
        "id": "95gtzfbvtQ88"
      }
    },
    {
      "cell_type": "code",
      "source": [
        "#Lo siguiente devolvera Falso:\n",
        "bool(False)\n",
        "bool(None)\n",
        "bool(0)\n",
        "bool(\"\")\n",
        "bool(())\n",
        "bool([])\n",
        "bool({})"
      ],
      "metadata": {
        "colab": {
          "base_uri": "https://localhost:8080/"
        },
        "id": "HNqTkzLBtV4V",
        "outputId": "b7519155-a50e-4499-b46b-651e5035b90d"
      },
      "execution_count": null,
      "outputs": [
        {
          "output_type": "execute_result",
          "data": {
            "text/plain": [
              "False"
            ]
          },
          "metadata": {},
          "execution_count": 151
        }
      ]
    },
    {
      "cell_type": "code",
      "source": [
        "class myclass():\n",
        "  def __len__(self):\n",
        "    return 0\n",
        "\n",
        "myobj = myclass()\n",
        "print(bool(myobj))"
      ],
      "metadata": {
        "colab": {
          "base_uri": "https://localhost:8080/"
        },
        "id": "Ibpsw6sfuK2f",
        "outputId": "578aa689-cc95-40c1-cf8c-6b16bd57d021"
      },
      "execution_count": null,
      "outputs": [
        {
          "output_type": "stream",
          "name": "stdout",
          "text": [
            "False\n"
          ]
        }
      ]
    },
    {
      "cell_type": "markdown",
      "source": [
        "\n",
        "\n",
        "*  Las funciones pueden devolver un valor booleano\n",
        "\n"
      ],
      "metadata": {
        "id": "13g4UcDfuZcT"
      }
    },
    {
      "cell_type": "code",
      "source": [
        "#Imprima la respuesta de una funcion:\n",
        "def myFunction() :\n",
        "  return True\n",
        "\n",
        "print(myFunction())"
      ],
      "metadata": {
        "colab": {
          "base_uri": "https://localhost:8080/"
        },
        "id": "H87jWgSSueEG",
        "outputId": "bd1f0108-33bd-41a0-f361-819f038f41c6"
      },
      "execution_count": null,
      "outputs": [
        {
          "output_type": "stream",
          "name": "stdout",
          "text": [
            "True\n"
          ]
        }
      ]
    },
    {
      "cell_type": "code",
      "source": [
        "#Imprima \"!SÍ¡\"  si la funcion devulve verdadero, de lo contrario omprima \"!NO¡\"\n",
        "def myFunction() :\n",
        "  return True\n",
        "\n",
        "if myFunction():\n",
        "  print(\"YES!\")\n",
        "else:\n",
        "  print(\"NO!\")"
      ],
      "metadata": {
        "colab": {
          "base_uri": "https://localhost:8080/"
        },
        "id": "-XfZy9xNu8wp",
        "outputId": "b9241f9a-1e46-4717-b016-8583e29528f4"
      },
      "execution_count": null,
      "outputs": [
        {
          "output_type": "stream",
          "name": "stdout",
          "text": [
            "YES!\n"
          ]
        }
      ]
    },
    {
      "cell_type": "markdown",
      "source": [
        "\n",
        "\n",
        "*  isinstance() funcion\n",
        "\n"
      ],
      "metadata": {
        "id": "aniSnlRNwEJe"
      }
    },
    {
      "cell_type": "code",
      "source": [
        "#Compruebe si un objeto es un entero o no:\n",
        "x = 200\n",
        "print(isinstance(x, int))"
      ],
      "metadata": {
        "colab": {
          "base_uri": "https://localhost:8080/"
        },
        "id": "lGOHx1kxwJOV",
        "outputId": "7630f670-4d77-454f-c8d5-772cf1e90bc5"
      },
      "execution_count": null,
      "outputs": [
        {
          "output_type": "stream",
          "name": "stdout",
          "text": [
            "True\n"
          ]
        }
      ]
    },
    {
      "cell_type": "markdown",
      "source": [
        "##OPERADORES CON PYTHON"
      ],
      "metadata": {
        "id": "cs21F18UwUj7"
      }
    },
    {
      "cell_type": "code",
      "source": [
        "print(10 + 5)"
      ],
      "metadata": {
        "colab": {
          "base_uri": "https://localhost:8080/"
        },
        "id": "p-69Hde7wYod",
        "outputId": "59de389d-8314-49d5-db89-bc7b10354886"
      },
      "execution_count": null,
      "outputs": [
        {
          "output_type": "stream",
          "name": "stdout",
          "text": [
            "15\n"
          ]
        }
      ]
    },
    {
      "cell_type": "markdown",
      "source": [
        "PRECEDENCIA DEL OPERADOR"
      ],
      "metadata": {
        "id": "TTwfmWFJ2np6"
      }
    },
    {
      "cell_type": "code",
      "source": [
        "#Los parentesis tienen la mayor precedencia, lo que significa que las expresiones\n",
        "#dentro del parentesis deben evaluarse primero:\n",
        "print((6 + 3) - (6 + 3))"
      ],
      "metadata": {
        "colab": {
          "base_uri": "https://localhost:8080/"
        },
        "id": "nZTHRYJ2wpUJ",
        "outputId": "5ec88a9c-d068-4ac1-d8df-a684ec791528"
      },
      "execution_count": null,
      "outputs": [
        {
          "output_type": "stream",
          "name": "stdout",
          "text": [
            "0\n"
          ]
        }
      ]
    },
    {
      "cell_type": "code",
      "source": [
        "#La multiplicacion tiene mayor precedencia que la suma y por lo tanto las\n",
        "#multiplicaciones se evalua antes que las sumas\n",
        "print(5 + 4 * 6)"
      ],
      "metadata": {
        "colab": {
          "base_uri": "https://localhost:8080/"
        },
        "id": "jFgOHHom3EGS",
        "outputId": "b65184e9-6600-4a7b-813f-2d1a8955addc"
      },
      "execution_count": null,
      "outputs": [
        {
          "output_type": "stream",
          "name": "stdout",
          "text": [
            "29\n"
          ]
        }
      ]
    },
    {
      "cell_type": "markdown",
      "source": [
        "ORDEN DE PRECENCIA\n",
        "\n",
        "\n",
        "\n",
        "1. Parentesis\n",
        "2. Exponenciacion\n",
        "3. +x,-x,~x\n",
        "4. multiplicaion,division, floor division, and modulos\n",
        "5. suma y resta\n",
        "6. << >>\n",
        "7. and\n",
        "8. xor\n",
        "9. or\n",
        "10. ==, !=, >, >=, <, <=, is, is not, in,  in not\n",
        "11. not\n",
        "12. and\n",
        "13. or\n",
        "\n"
      ],
      "metadata": {
        "id": "B4ierUy73Xsi"
      }
    },
    {
      "cell_type": "code",
      "source": [
        "#la suma y la resta tienen la MISMA PRECEDENCIA por lo tanto\n",
        "#se evalua de izquierda a derecha\n",
        "print(5 + 4 - 7 + 3)"
      ],
      "metadata": {
        "colab": {
          "base_uri": "https://localhost:8080/"
        },
        "id": "FG6HgQTw3UMt",
        "outputId": "613da5fd-0445-48d9-a568-ac3ff94a5d49"
      },
      "execution_count": null,
      "outputs": [
        {
          "output_type": "stream",
          "name": "stdout",
          "text": [
            "5\n"
          ]
        }
      ]
    },
    {
      "cell_type": "markdown",
      "source": [
        "##LISTAS DE PYTHON"
      ],
      "metadata": {
        "id": "Y6nq7uq_43uy"
      }
    },
    {
      "cell_type": "markdown",
      "source": [
        "\n",
        "\n",
        "*   Se utilizan para almacenar varios elementos un una sola variable\n",
        "*   as listan son uno de los 4 tipos de datos integrados en python que se utilizan para almacenar colecciones de datos\n",
        "*   Se crean utilizando corchetes\n",
        "\n",
        "ELEMTNOS DE LA LISTA\n",
        "\n",
        "*   Estan ordenados, son modificables y permiten valores duplicados\n",
        "*   Estan idexados\n",
        "\n",
        "ORDENADO\n",
        "\n",
        "*   Tienen un orden definido y ese orden NO cambia\n",
        "*   Si agrega nuevos elementos a una lista se colocan al final\n",
        "\n",
        "CAMBIABLE\n",
        "\n",
        "*   La lista es modificable asi que se puede cambiar, agregar y eliminar\n",
        "\n",
        "TIPOS DE DATOS INTEGRADOS EN PYTHON\n",
        "\n",
        "se utilizan para almacenar colecciones de datos\n",
        "\n",
        "*   Lista: es una coleccion ordenada y modificable, permite duplicados\n",
        "*   Tuplas: es una coleccion ordenada e inmutable, permite duplicados\n",
        "*   Set: es una coleccion desordenada, inmutable* y NO indexada NO permite duplicados\n",
        "*   dictionario: Es una coleccion** y modificable NO permite duplicados\n",
        "\n",
        "*los elementos del conjunto no se pueden modificar, pero puedes eliminarlos y/o agrefarlos cuando lo desees\n",
        "**apartir de la version 3.7 los diccionarios estan ORDENADOS\n",
        "python 3.6 y versiones anteriores los diccionarios estan DESORDENADOS\n"
      ],
      "metadata": {
        "id": "fOR1crh3-6rg"
      }
    },
    {
      "cell_type": "code",
      "source": [
        "mylist = [\"apple\", \"banana\", \"cherry\"]"
      ],
      "metadata": {
        "id": "NQBv_cSi46n0"
      },
      "execution_count": null,
      "outputs": []
    },
    {
      "cell_type": "code",
      "source": [
        "#Crear una lista:\n",
        "thislist = [\"apple\", \"banana\", \"cherry\"]\n",
        "print(thislist)"
      ],
      "metadata": {
        "colab": {
          "base_uri": "https://localhost:8080/"
        },
        "id": "KBXhmjXi73QH",
        "outputId": "adf4c719-35db-4d10-e914-e1c8490af993"
      },
      "execution_count": null,
      "outputs": [
        {
          "output_type": "stream",
          "name": "stdout",
          "text": [
            "['apple', 'banana', 'cherry']\n"
          ]
        }
      ]
    },
    {
      "cell_type": "code",
      "source": [
        "#las listas permiten valores dupliados\n",
        "thislist = [\"apple\", \"banana\", \"cherry\", \"apple\", \"cherry\"]\n",
        "print(thislist)"
      ],
      "metadata": {
        "colab": {
          "base_uri": "https://localhost:8080/"
        },
        "id": "KO9fgssHFdtR",
        "outputId": "b9d42677-32a7-4614-f293-7aa98fdd7d98"
      },
      "execution_count": null,
      "outputs": [
        {
          "output_type": "stream",
          "name": "stdout",
          "text": [
            "['apple', 'banana', 'cherry', 'apple', 'cherry']\n"
          ]
        }
      ]
    },
    {
      "cell_type": "code",
      "source": [
        "#Imprima el numero de elementos en la lista\n",
        "print(len(thislist))"
      ],
      "metadata": {
        "colab": {
          "base_uri": "https://localhost:8080/"
        },
        "id": "bqKHJtvaF07h",
        "outputId": "8b2ec0a3-bc82-4d5c-e98b-b4e1f6e02d7a"
      },
      "execution_count": null,
      "outputs": [
        {
          "output_type": "stream",
          "name": "stdout",
          "text": [
            "5\n"
          ]
        }
      ]
    },
    {
      "cell_type": "markdown",
      "source": [
        "ELEMENTOS DE LISTA: TIPOS DE DATOS"
      ],
      "metadata": {
        "id": "LKFUFsYVGAcm"
      }
    },
    {
      "cell_type": "code",
      "source": [
        "#Tipos de daatos de cadena, int y booleanos:\n",
        "list1 = [\"apple\", \"banana\", \"cherry\"]\n",
        "list2 = [1, 5, 7, 9, 3]\n",
        "list3 = [True, False, False]\n",
        "print(list1)\n",
        "print(list2)\n",
        "print(list3)"
      ],
      "metadata": {
        "colab": {
          "base_uri": "https://localhost:8080/"
        },
        "id": "6Fgkb-60GDeI",
        "outputId": "68afb699-b71f-4c41-deff-0e2a3fd1253d"
      },
      "execution_count": null,
      "outputs": [
        {
          "output_type": "stream",
          "name": "stdout",
          "text": [
            "['apple', 'banana', 'cherry']\n",
            "[1, 5, 7, 9, 3]\n",
            "[True, False, False]\n"
          ]
        }
      ]
    },
    {
      "cell_type": "markdown",
      "source": [
        "Una lista puede contener diferentes tipos de datos:"
      ],
      "metadata": {
        "id": "xsj3-ohtGSjQ"
      }
    },
    {
      "cell_type": "code",
      "source": [
        "#Una lista de cadenas , numeros enteros y valores booleanos:\n",
        "list1 = [\"abc\", 34, True, 40, \"male\"]\n",
        "print(list1)"
      ],
      "metadata": {
        "colab": {
          "base_uri": "https://localhost:8080/"
        },
        "id": "jrvvV56AGXqz",
        "outputId": "080c7d2a-71c2-4328-b240-2c50d116cc14"
      },
      "execution_count": null,
      "outputs": [
        {
          "output_type": "stream",
          "name": "stdout",
          "text": [
            "['abc', 34, True, 40, 'male']\n"
          ]
        }
      ]
    },
    {
      "cell_type": "markdown",
      "source": [
        "\n",
        "*  TIPO\n",
        "\n"
      ],
      "metadata": {
        "id": "lwpqtIsyGzCy"
      }
    },
    {
      "cell_type": "code",
      "source": [
        "#Cual es el tipo de datos de una lista?\n",
        "mylist = [\"apple\", \"banana\", \"cherry\"]\n",
        "print(type(mylist))"
      ],
      "metadata": {
        "colab": {
          "base_uri": "https://localhost:8080/"
        },
        "id": "xgUV3SBiGx0v",
        "outputId": "f10185b0-9a15-4080-eb9b-1ba8d4c908b2"
      },
      "execution_count": null,
      "outputs": [
        {
          "output_type": "stream",
          "name": "stdout",
          "text": [
            "<class 'list'>\n"
          ]
        }
      ]
    },
    {
      "cell_type": "markdown",
      "source": [
        "\n",
        "*   CONSTRUCTOR LIST ()\n",
        "\n"
      ],
      "metadata": {
        "id": "uW2osk14HDlh"
      }
    },
    {
      "cell_type": "code",
      "source": [
        "#Usando list () constructor para hacer una lista\n",
        "thislist = list((\"apple\", \"banana\", \"cherry\")) #lleva doble ()\n",
        "print(thislist)"
      ],
      "metadata": {
        "colab": {
          "base_uri": "https://localhost:8080/"
        },
        "id": "IrB5PSv4HSmt",
        "outputId": "8a23523d-6189-47de-91c7-092f8c3a5fda"
      },
      "execution_count": null,
      "outputs": [
        {
          "output_type": "stream",
          "name": "stdout",
          "text": [
            "['apple', 'banana', 'cherry']\n"
          ]
        }
      ]
    },
    {
      "cell_type": "markdown",
      "source": [
        "##ACCESO A ELEMENTOS DE LA LISTA"
      ],
      "metadata": {
        "id": "x7DdH3-PKc-q"
      }
    },
    {
      "cell_type": "markdown",
      "source": [
        "\n",
        "*   ACCEDER A ELEMENTOS\n",
        "\n"
      ],
      "metadata": {
        "id": "DibItmCUKl5t"
      }
    },
    {
      "cell_type": "code",
      "source": [
        "#Imprima el segundo elemento de la lista:\n",
        "thislist = [\"apple\", \"banana\", \"cherry\"]\n",
        "print(thislist[1])"
      ],
      "metadata": {
        "colab": {
          "base_uri": "https://localhost:8080/"
        },
        "id": "Xp0Uus17Krqq",
        "outputId": "c480468c-5021-4aad-82be-35252afa2a41"
      },
      "execution_count": null,
      "outputs": [
        {
          "output_type": "stream",
          "name": "stdout",
          "text": [
            "banana\n"
          ]
        }
      ]
    },
    {
      "cell_type": "markdown",
      "source": [
        "\n",
        "*   INDEXACION NEGATIVA\n",
        "\n",
        "\n",
        "\n"
      ],
      "metadata": {
        "id": "cs51m3-gLBT8"
      }
    },
    {
      "cell_type": "code",
      "source": [
        "#Imprima el ultimo elemento de la lista:\n",
        "thislist = [\"apple\", \"banana\", \"cherry\"]\n",
        "print(thislist[-1])"
      ],
      "metadata": {
        "colab": {
          "base_uri": "https://localhost:8080/"
        },
        "id": "pQdgFV-7LHdm",
        "outputId": "53465e2d-7534-4f2f-dd43-8a5b796c942b"
      },
      "execution_count": null,
      "outputs": [
        {
          "output_type": "stream",
          "name": "stdout",
          "text": [
            "cherry\n"
          ]
        }
      ]
    },
    {
      "cell_type": "markdown",
      "source": [
        "\n",
        "*   RANGO DE INDICES\n",
        "\n"
      ],
      "metadata": {
        "id": "8tW0XNaTMAYX"
      }
    },
    {
      "cell_type": "code",
      "source": [
        "#Devulve el tercer, cuarto y quiento elemento:\n",
        "thislist = [\"apple\", \"banana\", \"cherry\", \"orange\", \"kiwi\", \"melon\", \"mango\"]\n",
        "print(thislist[2:5])"
      ],
      "metadata": {
        "colab": {
          "base_uri": "https://localhost:8080/"
        },
        "id": "0Kh3hHjXL_67",
        "outputId": "be00f27d-487d-4d62-a7e3-7581d8153463"
      },
      "execution_count": null,
      "outputs": [
        {
          "output_type": "stream",
          "name": "stdout",
          "text": [
            "['cherry', 'orange', 'kiwi']\n"
          ]
        }
      ]
    },
    {
      "cell_type": "code",
      "source": [
        "#Devulve los elementos desde el principio hasta \"kiwi\" pero SIN incluirlo\n",
        "thislist = [\"apple\", \"banana\", \"cherry\", \"orange\", \"kiwi\", \"melon\", \"mango\"]\n",
        "print(thislist[:4])"
      ],
      "metadata": {
        "colab": {
          "base_uri": "https://localhost:8080/"
        },
        "id": "zLk9LxLFMaZn",
        "outputId": "437008ec-f95e-49d1-d124-5c354f4ed27d"
      },
      "execution_count": null,
      "outputs": [
        {
          "output_type": "stream",
          "name": "stdout",
          "text": [
            "['apple', 'banana', 'cherry', 'orange']\n"
          ]
        }
      ]
    },
    {
      "cell_type": "code",
      "source": [
        "#Devulve los elementos desde cherry hasta el final\n",
        "thislist = [\"apple\", \"banana\", \"cherry\", \"orange\", \"kiwi\", \"melon\", \"mango\"]\n",
        "print(thislist[2:])"
      ],
      "metadata": {
        "colab": {
          "base_uri": "https://localhost:8080/"
        },
        "id": "Vox421bSMzj-",
        "outputId": "37b99bc0-d620-4180-ab0d-fef054c9bca3"
      },
      "execution_count": null,
      "outputs": [
        {
          "output_type": "stream",
          "name": "stdout",
          "text": [
            "['cherry', 'orange', 'kiwi', 'melon', 'mango']\n"
          ]
        }
      ]
    },
    {
      "cell_type": "markdown",
      "source": [
        "\n",
        "*   RANGO DE INDICES NEGATIVOS\n",
        "\n"
      ],
      "metadata": {
        "id": "WgzJLi4uNNPe"
      }
    },
    {
      "cell_type": "code",
      "source": [
        "#Devulve los elementos desde naranja (-4) hasta mango (-1) pero sin incluir\n",
        "thislist = [\"apple\", \"banana\", \"cherry\", \"orange\", \"kiwi\", \"melon\", \"mango\"]\n",
        "print(thislist[-4:-1])"
      ],
      "metadata": {
        "colab": {
          "base_uri": "https://localhost:8080/"
        },
        "id": "ITRYmYj6NRzc",
        "outputId": "06a4fb3d-9dc7-47af-887f-64e94a7feb19"
      },
      "execution_count": null,
      "outputs": [
        {
          "output_type": "stream",
          "name": "stdout",
          "text": [
            "['orange', 'kiwi', 'melon']\n"
          ]
        }
      ]
    },
    {
      "cell_type": "markdown",
      "source": [
        "\n",
        "*   COMPROBAR SI EL ARTICULO EXISTE\n",
        "\n"
      ],
      "metadata": {
        "id": "9Dr-nY1gN-0J"
      }
    },
    {
      "cell_type": "code",
      "source": [
        "#Comprueba si manzana esta presente en la lista:\n",
        "thislist = [\"apple\", \"banana\", \"cherry\"]\n",
        "if \"apple\" in thislist:\n",
        "  print(\"Yes, 'apple' is in the fruits list\")"
      ],
      "metadata": {
        "colab": {
          "base_uri": "https://localhost:8080/"
        },
        "id": "YkkredygN9Xx",
        "outputId": "c1106a91-c96b-437d-e4ad-92d89c1e7163"
      },
      "execution_count": null,
      "outputs": [
        {
          "output_type": "stream",
          "name": "stdout",
          "text": [
            "Yes, 'apple' is in the fruits list\n"
          ]
        }
      ]
    },
    {
      "cell_type": "markdown",
      "source": [
        "\n",
        "*   CAMBIAR EL VALOR DEL ARTICULO\n",
        "\n"
      ],
      "metadata": {
        "id": "lEvbRMTXYfjz"
      }
    },
    {
      "cell_type": "code",
      "source": [
        "#Cambiar el segundo elemento\n",
        "thislist = [\"apple\", \"banana\", \"cherry\"]\n",
        "thislist[1] = \"blackcurrant\"\n",
        "print(thislist)"
      ],
      "metadata": {
        "colab": {
          "base_uri": "https://localhost:8080/"
        },
        "id": "Jy-AeI9iYoNr",
        "outputId": "20c2f26b-50b7-4a93-cc6c-1710fa3c04b5"
      },
      "execution_count": null,
      "outputs": [
        {
          "output_type": "stream",
          "name": "stdout",
          "text": [
            "['apple', 'blackcurrant', 'cherry']\n"
          ]
        }
      ]
    },
    {
      "cell_type": "markdown",
      "source": [
        "\n",
        "*   CAMBIAR UN RENGO DE VALORES DE ELEMENTOS\n",
        "\n"
      ],
      "metadata": {
        "id": "ltV_noMMY12H"
      }
    },
    {
      "cell_type": "code",
      "source": [
        "#Cambie los valores \"banana\" y \"cereza\" por los valores \"grosella negra\" y \"sandia\"\n",
        "thislist = [\"apple\", \"banana\", \"cherry\", \"orange\", \"kiwi\", \"mango\"]\n",
        "thislist[1:3] = [\"blackcurrant\", \"watermelon\"]\n",
        "print(thislist)"
      ],
      "metadata": {
        "colab": {
          "base_uri": "https://localhost:8080/"
        },
        "id": "AQ9VECBFY-xd",
        "outputId": "6deb7f93-eb0e-483c-abc2-18a9640371c0"
      },
      "execution_count": null,
      "outputs": [
        {
          "output_type": "stream",
          "name": "stdout",
          "text": [
            "['apple', 'blackcurrant', 'watermelon', 'orange', 'kiwi', 'mango']\n"
          ]
        }
      ]
    },
    {
      "cell_type": "markdown",
      "source": [
        "Si inserta mas elementos de los que reemplaza, los nuevos elementos se insertan donde especifico y los elementos se moverán en consecuencia"
      ],
      "metadata": {
        "id": "mYgujJimaIbL"
      }
    },
    {
      "cell_type": "code",
      "source": [
        "#Cambie el segundo valor reemplazandolo con dos nuevos valores\n",
        "thislist = [\"apple\", \"banana\", \"cherry\"]\n",
        "thislist[1:2] = [\"blackcurrant\", \"watermelon\"]\n",
        "print(thislist)"
      ],
      "metadata": {
        "colab": {
          "base_uri": "https://localhost:8080/"
        },
        "id": "mYo_5bGnZ0nt",
        "outputId": "0e6fe35c-0b04-4125-8fb8-5eca8a80da43"
      },
      "execution_count": null,
      "outputs": [
        {
          "output_type": "stream",
          "name": "stdout",
          "text": [
            "['apple', 'blackcurrant', 'watermelon', 'cherry']\n"
          ]
        }
      ]
    },
    {
      "cell_type": "code",
      "source": [
        "#Cambie el segundo y tercer valor reemplazandolos con un valor\n",
        "thislist = [\"apple\", \"banana\", \"cherry\"]\n",
        "thislist[1:3] = [\"watermelon\"]\n",
        "print(thislist)"
      ],
      "metadata": {
        "colab": {
          "base_uri": "https://localhost:8080/"
        },
        "id": "M9IDAx3na-zi",
        "outputId": "c81b7d4f-b6b7-42fc-f364-4faf152d0d9f"
      },
      "execution_count": null,
      "outputs": [
        {
          "output_type": "stream",
          "name": "stdout",
          "text": [
            "['apple', 'watermelon']\n"
          ]
        }
      ]
    },
    {
      "cell_type": "markdown",
      "source": [
        "\n",
        "*  INSERTAR ELEMENTOS\n",
        "\n"
      ],
      "metadata": {
        "id": "WfpcpsY3b3Vk"
      }
    },
    {
      "cell_type": "code",
      "source": [
        "#Insertar \"sandia\" como tercer elemento\n",
        "thislist = [\"apple\", \"banana\", \"cherry\"]\n",
        "thislist.insert(2, \"watermelon\")\n",
        "print(thislist)"
      ],
      "metadata": {
        "colab": {
          "base_uri": "https://localhost:8080/"
        },
        "id": "e9UFpom0b9cO",
        "outputId": "5765c863-9ad7-4ee8-8aad-259968d6d047"
      },
      "execution_count": null,
      "outputs": [
        {
          "output_type": "stream",
          "name": "stdout",
          "text": [
            "['apple', 'banana', 'watermelon', 'cherry']\n"
          ]
        }
      ]
    },
    {
      "cell_type": "markdown",
      "source": [
        "##AGREGAR ELEMENTOS A UNA LISTA"
      ],
      "metadata": {
        "id": "bQnaho5iee5U"
      }
    },
    {
      "cell_type": "markdown",
      "source": [
        "\n",
        "\n",
        "*   AÑADIR A ELEMENTOS\n",
        "\n"
      ],
      "metadata": {
        "id": "BRRiBPGdejCp"
      }
    },
    {
      "cell_type": "code",
      "source": [
        "#Usando el append() metodo para agregar un elemento\n",
        "thislist = [\"apple\", \"banana\", \"cherry\"]\n",
        "thislist.append(\"orange\")\n",
        "print(thislist)"
      ],
      "metadata": {
        "colab": {
          "base_uri": "https://localhost:8080/"
        },
        "id": "rMJl2wGKeotA",
        "outputId": "c5d297cf-c725-4f4a-bd78-4c71ec3385e5"
      },
      "execution_count": null,
      "outputs": [
        {
          "output_type": "stream",
          "name": "stdout",
          "text": [
            "['apple', 'banana', 'cherry', 'orange']\n"
          ]
        }
      ]
    },
    {
      "cell_type": "markdown",
      "source": [
        "\n",
        "*   INSERTAR ELEMENTOS\n",
        "\n"
      ],
      "metadata": {
        "id": "OAYhUiSyhlHz"
      }
    },
    {
      "cell_type": "code",
      "source": [
        "#Insertar un elemento como segunda posicion\n",
        "thislist = [\"apple\", \"banana\", \"cherry\"]\n",
        "thislist.insert(1, \"orange\")\n",
        "print(thislist)"
      ],
      "metadata": {
        "colab": {
          "base_uri": "https://localhost:8080/"
        },
        "id": "qmdcf21Khqqb",
        "outputId": "9a556614-5c16-4cdb-8653-47214f4ccae9"
      },
      "execution_count": null,
      "outputs": [
        {
          "output_type": "stream",
          "name": "stdout",
          "text": [
            "['apple', 'orange', 'banana', 'cherry']\n"
          ]
        }
      ]
    },
    {
      "cell_type": "markdown",
      "source": [
        "\n",
        "\n",
        "*   AMPLIAR LISTA\n",
        "\n"
      ],
      "metadata": {
        "id": "miIQQKVDifmj"
      }
    },
    {
      "cell_type": "code",
      "source": [
        "#Añade los elementos de tropical a thislist\n",
        "thislist = [\"apple\", \"banana\", \"cherry\"]\n",
        "tropical = [\"mango\", \"pineapple\", \"papaya\"]\n",
        "thislist.extend(tropical)\n",
        "print(thislist)"
      ],
      "metadata": {
        "colab": {
          "base_uri": "https://localhost:8080/"
        },
        "id": "0s184WEminJH",
        "outputId": "f9853efc-b33e-4ecf-9f70-a398234cd68b"
      },
      "execution_count": null,
      "outputs": [
        {
          "output_type": "stream",
          "name": "stdout",
          "text": [
            "['apple', 'banana', 'cherry', 'mango', 'pineapple', 'papaya']\n"
          ]
        }
      ]
    },
    {
      "cell_type": "markdown",
      "source": [
        "\n",
        "*  AGREGAR CUALQUIER ITERABLE\n"
      ],
      "metadata": {
        "id": "pn2eANQ3jzCv"
      }
    },
    {
      "cell_type": "code",
      "source": [
        "#Agregar elementos de una tupla a una lista\n",
        "thislist = [\"apple\", \"banana\", \"cherry\"]\n",
        "thistuple = (\"kiwi\", \"orange\")\n",
        "thislist.extend(thistuple)\n",
        "print(thislist)"
      ],
      "metadata": {
        "colab": {
          "base_uri": "https://localhost:8080/"
        },
        "id": "F-rWh65Kj68X",
        "outputId": "6bec0035-53cc-453a-88ee-a060826dacd3"
      },
      "execution_count": null,
      "outputs": [
        {
          "output_type": "stream",
          "name": "stdout",
          "text": [
            "['apple', 'banana', 'cherry', 'kiwi', 'orange']\n"
          ]
        }
      ]
    },
    {
      "cell_type": "markdown",
      "source": [
        "##ELIMINAR ELEMENTOS DE LA LISTA"
      ],
      "metadata": {
        "id": "nHdKFgo9ojuq"
      }
    },
    {
      "cell_type": "markdown",
      "source": [
        "\n",
        "*   Eliminar el elemento especficado\n",
        "\n"
      ],
      "metadata": {
        "id": "3IAMr5VCooZr"
      }
    },
    {
      "cell_type": "code",
      "source": [
        "#Eliminar \"banana\"\n",
        "thislist = [\"apple\", \"banana\", \"cherry\"]\n",
        "thislist.remove(\"banana\")\n",
        "print(thislist)"
      ],
      "metadata": {
        "colab": {
          "base_uri": "https://localhost:8080/"
        },
        "id": "ZjCBouiDpApF",
        "outputId": "708ab2e1-844b-4b16-9103-1837b0cd4064"
      },
      "execution_count": null,
      "outputs": [
        {
          "output_type": "stream",
          "name": "stdout",
          "text": [
            "['apple', 'cherry']\n"
          ]
        }
      ]
    },
    {
      "cell_type": "markdown",
      "source": [
        "si hay mas de un elemento con el valor especificado, el remove() metodo elimina la primera aparicion"
      ],
      "metadata": {
        "id": "UIkGJcKBp_DR"
      }
    },
    {
      "cell_type": "code",
      "source": [
        "#Eliminar la primera aparicion de \"banana\"\n",
        "thislist = [\"apple\", \"banana\", \"cherry\", \"banana\", \"kiwi\"]\n",
        "thislist.remove(\"banana\")\n",
        "print(thislist)"
      ],
      "metadata": {
        "colab": {
          "base_uri": "https://localhost:8080/"
        },
        "id": "gHAjNesRqPR7",
        "outputId": "d29a937c-3e32-4d9f-f39a-227b8a02da4a"
      },
      "execution_count": null,
      "outputs": [
        {
          "output_type": "stream",
          "name": "stdout",
          "text": [
            "['apple', 'cherry', 'banana', 'kiwi']\n"
          ]
        }
      ]
    },
    {
      "cell_type": "markdown",
      "source": [
        "\n",
        "*   ELIMINAR INDICE ESPECIFICADO\n",
        "\n"
      ],
      "metadata": {
        "id": "ji_cmNIpqj8e"
      }
    },
    {
      "cell_type": "code",
      "source": [
        "#Eliminar el segundo elemento\n",
        "thislist = [\"apple\", \"banana\", \"cherry\"]\n",
        "thislist.pop(1)\n",
        "print(thislist)"
      ],
      "metadata": {
        "colab": {
          "base_uri": "https://localhost:8080/"
        },
        "id": "g7ZJB8rGqpZK",
        "outputId": "5aa07c60-3918-4efd-c927-1bf31aeb4f4d"
      },
      "execution_count": null,
      "outputs": [
        {
          "output_type": "stream",
          "name": "stdout",
          "text": [
            "['apple', 'cherry']\n"
          ]
        }
      ]
    },
    {
      "cell_type": "markdown",
      "source": [
        "si no especifica el indice, elpop() metodo elimina el ultimo elemento"
      ],
      "metadata": {
        "id": "w-xmKbQBrBuw"
      }
    },
    {
      "cell_type": "code",
      "source": [
        "#Eliminar el ultimo elemento\n",
        "thislist = [\"apple\", \"banana\", \"cherry\"]\n",
        "thislist.pop()\n",
        "print(thislist)"
      ],
      "metadata": {
        "colab": {
          "base_uri": "https://localhost:8080/"
        },
        "id": "Eof_RK9xrKi7",
        "outputId": "deb6b2f4-fb50-4101-b624-e2672721a950"
      },
      "execution_count": null,
      "outputs": [
        {
          "output_type": "stream",
          "name": "stdout",
          "text": [
            "['apple', 'banana']\n"
          ]
        }
      ]
    },
    {
      "cell_type": "markdown",
      "source": [
        "la \"del\" palabra clave tambien elimina el indice especificado"
      ],
      "metadata": {
        "id": "RIWqFAngrflp"
      }
    },
    {
      "cell_type": "code",
      "source": [
        "#Eliminar el primer elemento\n",
        "thislist = [\"apple\", \"banana\", \"cherry\"]\n",
        "del thislist[0]\n",
        "print(thislist)"
      ],
      "metadata": {
        "colab": {
          "base_uri": "https://localhost:8080/"
        },
        "id": "xbZDfIPQrlqS",
        "outputId": "32b4fa8e-8e74-4c16-e5f3-003e391ee035"
      },
      "execution_count": null,
      "outputs": [
        {
          "output_type": "stream",
          "name": "stdout",
          "text": [
            "['banana', 'cherry']\n"
          ]
        }
      ]
    },
    {
      "cell_type": "markdown",
      "source": [
        "la \"del\" palabra clave tambien puede eliminar la lista por completo"
      ],
      "metadata": {
        "id": "bh_whHtVrx1L"
      }
    },
    {
      "cell_type": "code",
      "source": [
        "#Eliminar la lista completa\n",
        "thislist = [\"apple\", \"banana\", \"cherry\"]\n",
        "del thislist"
      ],
      "metadata": {
        "id": "zIck9poyrxab"
      },
      "execution_count": null,
      "outputs": []
    },
    {
      "cell_type": "markdown",
      "source": [
        "\n",
        "*   LIMPIAR LA LISTA\n",
        "\n"
      ],
      "metadata": {
        "id": "YDa5Xj8fsg8B"
      }
    },
    {
      "cell_type": "code",
      "source": [
        "#Limpiar el contenido de la lista\n",
        "thislist = [\"apple\", \"banana\", \"cherry\"]\n",
        "thislist.clear()\n",
        "print(thislist)"
      ],
      "metadata": {
        "colab": {
          "base_uri": "https://localhost:8080/"
        },
        "id": "YFJ4PMmwsmL7",
        "outputId": "ab9b6ec4-656d-4b7a-9ba9-a6051089c666"
      },
      "execution_count": null,
      "outputs": [
        {
          "output_type": "stream",
          "name": "stdout",
          "text": [
            "[]\n"
          ]
        }
      ]
    },
    {
      "cell_type": "markdown",
      "source": [
        "##LISTAS DE BUCLES"
      ],
      "metadata": {
        "id": "vdpvakndtG2V"
      }
    },
    {
      "cell_type": "markdown",
      "source": [
        "\n",
        "*   RECORRER UNA LISTA EN BUCLE\n",
        "\n"
      ],
      "metadata": {
        "id": "XriYCcXKtK1c"
      }
    },
    {
      "cell_type": "code",
      "source": [
        "#Imprima todos los elementos de la lista, uno por uno:\n",
        "thislist = [\"apple\", \"banana\", \"cherry\"]\n",
        "for x in thislist:\n",
        "  print(x)"
      ],
      "metadata": {
        "colab": {
          "base_uri": "https://localhost:8080/"
        },
        "id": "l-dxmXaMtTsJ",
        "outputId": "8149eb77-1b40-481e-a8dc-6b9271a0bfda"
      },
      "execution_count": null,
      "outputs": [
        {
          "output_type": "stream",
          "name": "stdout",
          "text": [
            "apple\n",
            "banana\n",
            "cherry\n"
          ]
        }
      ]
    },
    {
      "cell_type": "markdown",
      "source": [
        "\n",
        "*    RECORRER LOS NUMEROS DE INDICE\n",
        "\n"
      ],
      "metadata": {
        "id": "2syUuF4YtuG_"
      }
    },
    {
      "cell_type": "code",
      "source": [
        "#Imprima todos los articulos consultando su numero de indice\n",
        "thislist = [\"apple\", \"banana\", \"cherry\"]\n",
        "for i in range(len(thislist)):\n",
        "  print(thislist[i])"
      ],
      "metadata": {
        "colab": {
          "base_uri": "https://localhost:8080/"
        },
        "id": "6k7R2bFHtzZx",
        "outputId": "efe905a8-e932-476e-9539-560faa20341e"
      },
      "execution_count": null,
      "outputs": [
        {
          "output_type": "stream",
          "name": "stdout",
          "text": [
            "apple\n",
            "banana\n",
            "cherry\n"
          ]
        }
      ]
    },
    {
      "cell_type": "markdown",
      "source": [
        "el iterable creado en el ejemplo anterior es [0,1,2]"
      ],
      "metadata": {
        "id": "1vXuDaTXvP7-"
      }
    },
    {
      "cell_type": "markdown",
      "source": [
        "\n",
        "*   USANDO UN BUCLE WHILE\n",
        "\n"
      ],
      "metadata": {
        "id": "W2gECLpavV3P"
      }
    },
    {
      "cell_type": "code",
      "source": [
        "#Imprimir todos los elementos, utilizando un while bulce para recorrer todos los\n",
        "#indices\n",
        "thislist = [\"apple\", \"banana\", \"cherry\"]\n",
        "i = 0\n",
        "while i < len(thislist):\n",
        "  print(thislist[i])\n",
        "  i = i + 1"
      ],
      "metadata": {
        "colab": {
          "base_uri": "https://localhost:8080/"
        },
        "id": "uCMNhtEcvfvm",
        "outputId": "f3e835b4-b54a-493b-9f99-f9390d07d3df"
      },
      "execution_count": null,
      "outputs": [
        {
          "output_type": "stream",
          "name": "stdout",
          "text": [
            "apple\n",
            "banana\n",
            "cherry\n"
          ]
        }
      ]
    },
    {
      "cell_type": "markdown",
      "source": [
        "\n",
        "*   BUCLES MEDIANTE COMPRENSION DE LISTAS\n",
        "\n"
      ],
      "metadata": {
        "id": "_58kkh1Yw0yO"
      }
    },
    {
      "cell_type": "code",
      "source": [
        "#Un \"for\" bucle manual corto que imprimira todos los elementos de una lista:\n",
        "thislist = [\"apple\", \"banana\", \"cherry\"]\n",
        "[print(x) for x in thislist]"
      ],
      "metadata": {
        "colab": {
          "base_uri": "https://localhost:8080/"
        },
        "id": "J92FmKauxJoG",
        "outputId": "05802369-aa03-4f58-927a-cf4faf2b7d77"
      },
      "execution_count": null,
      "outputs": [
        {
          "output_type": "stream",
          "name": "stdout",
          "text": [
            "apple\n",
            "banana\n",
            "cherry\n"
          ]
        },
        {
          "output_type": "execute_result",
          "data": {
            "text/plain": [
              "[None, None, None]"
            ]
          },
          "metadata": {},
          "execution_count": 194
        }
      ]
    },
    {
      "cell_type": "markdown",
      "source": [
        "##COMPRENSIÓN DE LISTAS"
      ],
      "metadata": {
        "id": "V0RMyN-rxvSW"
      }
    },
    {
      "cell_type": "markdown",
      "source": [
        "\n",
        "*   COMPRENSIÓN DE LISTAS\n",
        "\n",
        "\n"
      ],
      "metadata": {
        "id": "kwJ_vevcxyqJ"
      }
    },
    {
      "cell_type": "code",
      "source": [
        "#apartir de una lista de frutas, desea una nueva lista, que contenga solo las\n",
        "#frutas con la letra \"a\" en el nombre.\n",
        "fruits = [\"apple\", \"banana\", \"cherry\", \"kiwi\", \"mango\"]\n",
        "newlist = []\n",
        "\n",
        "for x in fruits:\n",
        "  if \"a\" in x:\n",
        "    newlist.append(x)\n",
        "\n",
        "print(newlist)"
      ],
      "metadata": {
        "colab": {
          "base_uri": "https://localhost:8080/"
        },
        "id": "JeCGzWCCx7Tf",
        "outputId": "abd252eb-2f0a-4630-9745-508b2187e8a4"
      },
      "execution_count": null,
      "outputs": [
        {
          "output_type": "stream",
          "name": "stdout",
          "text": [
            "['apple', 'banana', 'mango']\n"
          ]
        }
      ]
    },
    {
      "cell_type": "markdown",
      "source": [
        "conn  la comprension de lista se puede hacer todo esto en una sola linea\n",
        "\n",
        "SINTAXIS:\n",
        "\n",
        "newlist = [expression for item in iterable if condition == True]\n",
        "\n",
        "El valor de retorno es una nueva lista, dejando la lista anterior sin cambiso"
      ],
      "metadata": {
        "id": "jgHPePZEy5lx"
      }
    },
    {
      "cell_type": "code",
      "source": [
        "fruits = [\"apple\", \"banana\", \"cherry\", \"kiwi\", \"mango\"] #iterable\n",
        "newlist = [x for x in fruits if \"a\" in x]\n",
        "print(newlist)"
      ],
      "metadata": {
        "colab": {
          "base_uri": "https://localhost:8080/"
        },
        "id": "0uC1IKX_zCZu",
        "outputId": "3d1ea619-32ca-4e59-ed2e-c9434bec2605"
      },
      "execution_count": null,
      "outputs": [
        {
          "output_type": "stream",
          "name": "stdout",
          "text": [
            "['apple', 'banana', 'mango']\n"
          ]
        }
      ]
    },
    {
      "cell_type": "markdown",
      "source": [
        "\n",
        "*   CONDICION\n",
        "\n"
      ],
      "metadata": {
        "id": "qyDewdo4zqkk"
      }
    },
    {
      "cell_type": "code",
      "source": [
        "#Acepta unicamente articulos que no sean \"manzana\"\n",
        "newlist = [x for x in fruits if x != \"apple\"]\n",
        "print(newlist)"
      ],
      "metadata": {
        "colab": {
          "base_uri": "https://localhost:8080/"
        },
        "id": "CCcuhW-Azums",
        "outputId": "4ff7d2b8-64de-4b44-c06a-88137457cc39"
      },
      "execution_count": null,
      "outputs": [
        {
          "output_type": "stream",
          "name": "stdout",
          "text": [
            "['banana', 'cherry', 'kiwi', 'mango']\n"
          ]
        }
      ]
    },
    {
      "cell_type": "markdown",
      "source": [
        "la *condicion* es opcional y se puede omitir"
      ],
      "metadata": {
        "id": "Y6RpcTq5GAP4"
      }
    },
    {
      "cell_type": "code",
      "source": [
        "#sin ninguna IF declaracion\n",
        "newlist = [x for x in fruits]\n",
        "print(newlist)"
      ],
      "metadata": {
        "colab": {
          "base_uri": "https://localhost:8080/"
        },
        "id": "twIkWhUHF8V-",
        "outputId": "0efe28dd-37c9-496b-a4f4-1916a147d6d1"
      },
      "execution_count": null,
      "outputs": [
        {
          "output_type": "stream",
          "name": "stdout",
          "text": [
            "['apple', 'banana', 'cherry', 'kiwi', 'mango']\n"
          ]
        }
      ]
    },
    {
      "cell_type": "markdown",
      "source": [
        "\n",
        "*   ITERABLE\n",
        "\n"
      ],
      "metadata": {
        "id": "3Tqj67LkGPxp"
      }
    },
    {
      "cell_type": "code",
      "source": [
        "#Puede utilizar la range() funcion para crear un iterable:\n",
        "newlist = [x for x in range(10)]\n",
        "print(newlist)"
      ],
      "metadata": {
        "colab": {
          "base_uri": "https://localhost:8080/"
        },
        "id": "Su7ZyUMGGTsV",
        "outputId": "0a2e60eb-83dd-4404-8ecc-64c5d020d07f"
      },
      "execution_count": null,
      "outputs": [
        {
          "output_type": "stream",
          "name": "stdout",
          "text": [
            "[0, 1, 2, 3, 4, 5, 6, 7, 8, 9]\n"
          ]
        }
      ]
    },
    {
      "cell_type": "markdown",
      "source": [
        "mismo ejemplo pero con condicion:"
      ],
      "metadata": {
        "id": "kAd8UwAXGsE9"
      }
    },
    {
      "cell_type": "code",
      "source": [
        "#Acepte unicamente numeros inferiores a 5:\n",
        "newlist = [x for x in range(10) if x < 5]\n",
        "print(newlist)"
      ],
      "metadata": {
        "colab": {
          "base_uri": "https://localhost:8080/"
        },
        "id": "_5dppO7BGvvY",
        "outputId": "27433104-0b00-4759-80b3-52b7c17ba7b2"
      },
      "execution_count": null,
      "outputs": [
        {
          "output_type": "stream",
          "name": "stdout",
          "text": [
            "[0, 1, 2, 3, 4]\n"
          ]
        }
      ]
    },
    {
      "cell_type": "markdown",
      "source": [
        "\n",
        "*   EXPRESIÓN\n",
        "\n",
        "\n"
      ],
      "metadata": {
        "id": "2eMP38WAG5i6"
      }
    },
    {
      "cell_type": "code",
      "source": [
        "#Extablezca los valores de la nueva lista en mayúsculas:\n",
        "newlist = [x.upper() for x in fruits]\n",
        "print(newlist)"
      ],
      "metadata": {
        "colab": {
          "base_uri": "https://localhost:8080/"
        },
        "id": "OZ5h6m_aG9_f",
        "outputId": "1c56f7a0-acf0-473f-d3c5-8a5c378be10b"
      },
      "execution_count": null,
      "outputs": [
        {
          "output_type": "stream",
          "name": "stdout",
          "text": [
            "['APPLE', 'BANANA', 'CHERRY', 'KIWI', 'MANGO']\n"
          ]
        }
      ]
    },
    {
      "cell_type": "markdown",
      "source": [
        "Puedes configurar el resultado como desees:"
      ],
      "metadata": {
        "id": "Gxe1n1QnHrUa"
      }
    },
    {
      "cell_type": "code",
      "source": [
        "#Establezca todos los valores en la nueva lista en \"hola\":\n",
        "newlist = ['hello' for x in fruits]\n",
        "print(newlist)"
      ],
      "metadata": {
        "colab": {
          "base_uri": "https://localhost:8080/"
        },
        "id": "MeixYYNgHwCc",
        "outputId": "844d8605-82f8-4841-a9a8-0fd25237f924"
      },
      "execution_count": null,
      "outputs": [
        {
          "output_type": "stream",
          "name": "stdout",
          "text": [
            "['hello', 'hello', 'hello', 'hello', 'hello']\n"
          ]
        }
      ]
    },
    {
      "cell_type": "markdown",
      "source": [
        "la expresion tambien puede contener condiciones, no como un filtro, sino\n",
        "como una forma de manipular el resultado:"
      ],
      "metadata": {
        "id": "-j6sqEEEIMI6"
      }
    },
    {
      "cell_type": "code",
      "source": [
        "#Devulve \"naranja\" en lugar de \"banana\"\n",
        "newlist = [x if x != \"banana\" else \"orange\" for x in fruits]\n",
        "print(newlist)"
      ],
      "metadata": {
        "colab": {
          "base_uri": "https://localhost:8080/"
        },
        "id": "-zKtDHLIIWR2",
        "outputId": "9275dba6-f082-415b-cfd7-2bdd2f29a963"
      },
      "execution_count": null,
      "outputs": [
        {
          "output_type": "stream",
          "name": "stdout",
          "text": [
            "['apple', 'orange', 'cherry', 'kiwi', 'mango']\n"
          ]
        }
      ]
    },
    {
      "cell_type": "markdown",
      "source": [
        "la expresion del ejemplo anterior dice:\n",
        "\"Devulve el articulo si no es plátano, si es plátano devulve naranja\""
      ],
      "metadata": {
        "id": "XaoFSRcKJGcG"
      }
    },
    {
      "cell_type": "markdown",
      "source": [
        "##ORDENAR LISTAS"
      ],
      "metadata": {
        "id": "fghZyJ6UJUww"
      }
    },
    {
      "cell_type": "markdown",
      "source": [
        "\n",
        "*   ORDENAR LISTA ALFANUMÉRICAMENTE\n",
        "\n"
      ],
      "metadata": {
        "id": "ldzv6tarJZ0r"
      }
    },
    {
      "cell_type": "code",
      "source": [
        "#Ordenar la lista alfanumerica\n",
        "thislist = [\"orange\", \"mango\", \"kiwi\", \"pineapple\", \"banana\"]\n",
        "thislist.sort()\n",
        "print(thislist)"
      ],
      "metadata": {
        "colab": {
          "base_uri": "https://localhost:8080/"
        },
        "id": "0s51WwrBJiGN",
        "outputId": "984822ae-a474-4768-c6c5-4c1c82cba09d"
      },
      "execution_count": null,
      "outputs": [
        {
          "output_type": "stream",
          "name": "stdout",
          "text": [
            "['banana', 'kiwi', 'mango', 'orange', 'pineapple']\n"
          ]
        }
      ]
    },
    {
      "cell_type": "code",
      "source": [
        "#Ordenar la lista numéricamente\n",
        "thislist = [100, 50, 65, 82, 23]\n",
        "thislist.sort()\n",
        "print(thislist)"
      ],
      "metadata": {
        "colab": {
          "base_uri": "https://localhost:8080/"
        },
        "id": "IH5nV6AqKx-F",
        "outputId": "36d76a6a-8e87-4c22-c31d-848ebf7d632a"
      },
      "execution_count": null,
      "outputs": [
        {
          "output_type": "stream",
          "name": "stdout",
          "text": [
            "[23, 50, 65, 82, 100]\n"
          ]
        }
      ]
    },
    {
      "cell_type": "markdown",
      "source": [
        "\n",
        "*   ORDEN DESCENDIENTE\n",
        "\n"
      ],
      "metadata": {
        "id": "8BBcv2UNK5Gz"
      }
    },
    {
      "cell_type": "code",
      "source": [
        "#Ordenar la lista descendentemente:\n",
        "thislist = [\"orange\", \"mango\", \"kiwi\", \"pineapple\", \"banana\"]\n",
        "thislist.sort(reverse = True)\n",
        "print(thislist)"
      ],
      "metadata": {
        "colab": {
          "base_uri": "https://localhost:8080/"
        },
        "id": "1VE68GtYK-WV",
        "outputId": "03f58ce6-8fd3-4d58-970c-051426c56dc2"
      },
      "execution_count": null,
      "outputs": [
        {
          "output_type": "stream",
          "name": "stdout",
          "text": [
            "['pineapple', 'orange', 'mango', 'kiwi', 'banana']\n"
          ]
        }
      ]
    },
    {
      "cell_type": "code",
      "source": [
        "#Ordenar la lista descendentemente:\n",
        "thislist = [100, 50, 65, 82, 23]\n",
        "thislist.sort(reverse = True)\n",
        "print(thislist)"
      ],
      "metadata": {
        "colab": {
          "base_uri": "https://localhost:8080/"
        },
        "id": "8oOBjVW6LZB5",
        "outputId": "35e8f496-1831-458c-c647-9884ba94d80b"
      },
      "execution_count": null,
      "outputs": [
        {
          "output_type": "stream",
          "name": "stdout",
          "text": [
            "[100, 82, 65, 50, 23]\n"
          ]
        }
      ]
    },
    {
      "cell_type": "markdown",
      "source": [
        "\n",
        "*   PERSONALIZAR LA FUNCION DE ORDENAMIENTO\n",
        "\n"
      ],
      "metadata": {
        "id": "EOCRaaRSLhkn"
      }
    },
    {
      "cell_type": "code",
      "source": [
        "#Ordene la lista segun que tan cerca este el numero 50:\n",
        "def myfunc(n):\n",
        "  return abs(n - 50)\n",
        "\n",
        "thislist = [100, 50, 65, 82, 23]\n",
        "thislist.sort(key = myfunc)\n",
        "print(thislist)"
      ],
      "metadata": {
        "colab": {
          "base_uri": "https://localhost:8080/"
        },
        "id": "z3xo9EqJMy_I",
        "outputId": "619d03d8-3b0b-4476-a2dd-309298484cfb"
      },
      "execution_count": null,
      "outputs": [
        {
          "output_type": "stream",
          "name": "stdout",
          "text": [
            "[50, 65, 23, 82, 100]\n"
          ]
        }
      ]
    },
    {
      "cell_type": "markdown",
      "source": [
        "\n",
        "*   ORDENACIÓN SIN DISTINCION ENTRE MAYÚSCULAS Y MINÚSCULAS\n",
        "\n"
      ],
      "metadata": {
        "id": "cG-gSDmxh8y_"
      }
    },
    {
      "cell_type": "code",
      "source": [
        "#La clasificiacion que distingue entre mayusculas y minusculas puede dar un resultado inesperado\n",
        "thislist = [\"banana\", \"Orange\", \"Kiwi\", \"cherry\"]\n",
        "thislist.sort()\n",
        "print(thislist)"
      ],
      "metadata": {
        "colab": {
          "base_uri": "https://localhost:8080/"
        },
        "id": "AjvoeUP8iENo",
        "outputId": "ae66a878-5200-4aa8-ccd9-7215e37835b4"
      },
      "execution_count": null,
      "outputs": [
        {
          "output_type": "stream",
          "name": "stdout",
          "text": [
            "['Kiwi', 'Orange', 'banana', 'cherry']\n"
          ]
        }
      ]
    },
    {
      "cell_type": "code",
      "source": [
        "#Realizar una ordenacion de la lista sin distinguir entre mayusculas y minusculas\n",
        "thislist = [\"banana\", \"Orange\", \"Kiwi\", \"cherry\"]\n",
        "thislist.sort(key = str.lower)\n",
        "print(thislist)"
      ],
      "metadata": {
        "colab": {
          "base_uri": "https://localhost:8080/"
        },
        "id": "esmtUb09jRjV",
        "outputId": "f999b755-bdde-448f-b8fb-2b10283d4c06"
      },
      "execution_count": null,
      "outputs": [
        {
          "output_type": "stream",
          "name": "stdout",
          "text": [
            "['banana', 'cherry', 'Kiwi', 'Orange']\n"
          ]
        }
      ]
    },
    {
      "cell_type": "markdown",
      "source": [
        "\n",
        "*   ORDEN INVERSO\n",
        "\n"
      ],
      "metadata": {
        "id": "OXyOstojjd01"
      }
    },
    {
      "cell_type": "code",
      "source": [
        "#invertir el orden de los elementos de la lista\n",
        "thislist = [\"banana\", \"Orange\", \"Kiwi\", \"cherry\"]\n",
        "thislist.reverse()\n",
        "print(thislist)"
      ],
      "metadata": {
        "colab": {
          "base_uri": "https://localhost:8080/"
        },
        "id": "EVfeHuLCjiVG",
        "outputId": "46d278fe-970d-4407-a3ce-02189f018be5"
      },
      "execution_count": null,
      "outputs": [
        {
          "output_type": "stream",
          "name": "stdout",
          "text": [
            "['cherry', 'Kiwi', 'Orange', 'banana']\n"
          ]
        }
      ]
    },
    {
      "cell_type": "markdown",
      "source": [
        "##COPIAR LISTAS"
      ],
      "metadata": {
        "id": "mTKddOU2kVZX"
      }
    },
    {
      "cell_type": "code",
      "source": [
        "#Haz un a copia  de una lista con el copy() metodo\n",
        "thislist = [\"apple\", \"banana\", \"cherry\"]\n",
        "mylist = thislist.copy()\n",
        "print(mylist)"
      ],
      "metadata": {
        "colab": {
          "base_uri": "https://localhost:8080/"
        },
        "id": "WugSi6svkcfJ",
        "outputId": "94f2257d-67cd-498a-c3db-75c8824788be"
      },
      "execution_count": null,
      "outputs": [
        {
          "output_type": "stream",
          "name": "stdout",
          "text": [
            "['apple', 'banana', 'cherry']\n"
          ]
        }
      ]
    },
    {
      "cell_type": "markdown",
      "source": [
        "\n",
        "*   UTILICE EL METODO LIST()\n",
        "\n"
      ],
      "metadata": {
        "id": "fOnJzkg6lQId"
      }
    },
    {
      "cell_type": "code",
      "source": [
        "#Haz una copia de un alista con el list() metodo\n",
        "thislist = [\"apple\", \"banana\", \"cherry\"]\n",
        "mylist = list(thislist)\n",
        "print(mylist)"
      ],
      "metadata": {
        "colab": {
          "base_uri": "https://localhost:8080/"
        },
        "id": "lfYrY1nilVaW",
        "outputId": "01c024c8-e4d6-4b1e-cf63-aaceb295a73c"
      },
      "execution_count": null,
      "outputs": [
        {
          "output_type": "stream",
          "name": "stdout",
          "text": [
            "['apple', 'banana', 'cherry']\n"
          ]
        }
      ]
    },
    {
      "cell_type": "markdown",
      "source": [
        "\n",
        "*   UTILICIE EL OPERADOR SLICE\n",
        "\n"
      ],
      "metadata": {
        "id": "OyS5ZKD4ltgN"
      }
    },
    {
      "cell_type": "code",
      "source": [
        "#Hacer una copia de una lista con el : operador:\n",
        "thislist = [\"apple\", \"banana\", \"cherry\"]\n",
        "mylist = thislist[:]\n",
        "print(mylist)"
      ],
      "metadata": {
        "colab": {
          "base_uri": "https://localhost:8080/"
        },
        "id": "_Tp93w9tlzOX",
        "outputId": "b3175efa-ea53-4370-a917-88972607bb63"
      },
      "execution_count": null,
      "outputs": [
        {
          "output_type": "stream",
          "name": "stdout",
          "text": [
            "['apple', 'banana', 'cherry']\n"
          ]
        }
      ]
    },
    {
      "cell_type": "markdown",
      "source": [
        "##UNIR LISTAS"
      ],
      "metadata": {
        "id": "DZTwUF6ZmNmt"
      }
    },
    {
      "cell_type": "markdown",
      "source": [
        "\n",
        "*   UNIR DOS LISTAS\n",
        "\n"
      ],
      "metadata": {
        "id": "WmPJUD8smQBJ"
      }
    },
    {
      "cell_type": "code",
      "source": [
        "#Une a dos listas:\n",
        "list1 = [\"a\", \"b\", \"c\"]\n",
        "list2 = [1, 2, 3]\n",
        "\n",
        "list3 = list1 + list2\n",
        "print(list3)"
      ],
      "metadata": {
        "colab": {
          "base_uri": "https://localhost:8080/"
        },
        "id": "3ZXN9n4_mT1U",
        "outputId": "c1058b42-e0ff-4bca-9404-e63b5eacba19"
      },
      "execution_count": null,
      "outputs": [
        {
          "output_type": "stream",
          "name": "stdout",
          "text": [
            "['a', 'b', 'c', 1, 2, 3]\n"
          ]
        }
      ]
    },
    {
      "cell_type": "markdown",
      "source": [
        "Otra forma de unir dos listas es agreagando todos los elementos de lista2 a la lista1, uno por uno:\n"
      ],
      "metadata": {
        "id": "Q3sXzYz3mun-"
      }
    },
    {
      "cell_type": "code",
      "source": [
        "#Añadir lista2 a lista1:\n",
        "list1 = [\"a\", \"b\" , \"c\"]\n",
        "list2 = [1, 2, 3]\n",
        "\n",
        "for x in list2:\n",
        "  list1.append(x)\n",
        "\n",
        "print(list1)"
      ],
      "metadata": {
        "colab": {
          "base_uri": "https://localhost:8080/"
        },
        "id": "sbjv0URLm2tz",
        "outputId": "ede8d6fa-9607-4bc3-b798-a77cd77eee8d"
      },
      "execution_count": null,
      "outputs": [
        {
          "output_type": "stream",
          "name": "stdout",
          "text": [
            "['a', 'b', 'c', 1, 2, 3]\n"
          ]
        }
      ]
    },
    {
      "cell_type": "markdown",
      "source": [
        "O puedes utilizar el extend() metodo, donde el porposito es agregar elementos de una lista a otra lista:"
      ],
      "metadata": {
        "id": "p1GjtwzKnDnZ"
      }
    },
    {
      "cell_type": "code",
      "source": [
        "#Utilice el extend() metodo, donde el proposito es agregar elemntos de una lista a otra lista\n",
        "list1 = [\"a\", \"b\" , \"c\"]\n",
        "list2 = [1, 2, 3]\n",
        "\n",
        "list1.extend(list2)\n",
        "print(list1)"
      ],
      "metadata": {
        "colab": {
          "base_uri": "https://localhost:8080/"
        },
        "id": "pV01JVXsnKml",
        "outputId": "6be58cd6-2022-48b3-caec-cf89fa237ebb"
      },
      "execution_count": null,
      "outputs": [
        {
          "output_type": "stream",
          "name": "stdout",
          "text": [
            "['a', 'b', 'c', 1, 2, 3]\n"
          ]
        }
      ]
    },
    {
      "cell_type": "markdown",
      "source": [
        "##TUPLAS DE PYTHON"
      ],
      "metadata": {
        "id": "plA2R9ymngnA"
      }
    },
    {
      "cell_type": "code",
      "source": [
        "#Crear una tupla:\n",
        "thistuple = (\"apple\", \"banana\", \"cherry\")\n",
        "print(thistuple)"
      ],
      "metadata": {
        "colab": {
          "base_uri": "https://localhost:8080/"
        },
        "id": "R78ViQYRnrLd",
        "outputId": "1f19f42f-4742-4eb2-ac44-d68186ca50f0"
      },
      "execution_count": null,
      "outputs": [
        {
          "output_type": "stream",
          "name": "stdout",
          "text": [
            "('apple', 'banana', 'cherry')\n"
          ]
        }
      ]
    },
    {
      "cell_type": "code",
      "source": [
        "#Las tuplas permiten valores dupliacos:\n",
        "thistuple = (\"apple\", \"banana\", \"cherry\", \"apple\", \"cherry\")\n",
        "print(thistuple)"
      ],
      "metadata": {
        "colab": {
          "base_uri": "https://localhost:8080/"
        },
        "id": "jbinM7d0vCsp",
        "outputId": "49bf4fab-e733-4738-adb7-b8c688c9a9aa"
      },
      "execution_count": null,
      "outputs": [
        {
          "output_type": "stream",
          "name": "stdout",
          "text": [
            "('apple', 'banana', 'cherry', 'apple', 'cherry')\n"
          ]
        }
      ]
    },
    {
      "cell_type": "markdown",
      "source": [
        "\n",
        "*   LONGUITUD DE TUPLA\n",
        "\n"
      ],
      "metadata": {
        "id": "bDA6YMf5va97"
      }
    },
    {
      "cell_type": "code",
      "source": [
        "#Imprima el numero de elemntos en la tupla\n",
        "thistuple = (\"apple\", \"banana\", \"cherry\")\n",
        "print(len(thistuple))"
      ],
      "metadata": {
        "colab": {
          "base_uri": "https://localhost:8080/"
        },
        "id": "nGsHDw8RvW6p",
        "outputId": "200aee77-6632-4e43-ec8c-72ac3eaa7c26"
      },
      "execution_count": null,
      "outputs": [
        {
          "output_type": "stream",
          "name": "stdout",
          "text": [
            "3\n"
          ]
        }
      ]
    },
    {
      "cell_type": "markdown",
      "source": [
        "\n",
        "\n",
        "*   CREAR UNA TUPLA CON UN ELEMENTO\n",
        "\n"
      ],
      "metadata": {
        "id": "GvqYDJYInpSw"
      }
    },
    {
      "cell_type": "code",
      "source": [
        "#Una tupla de elementos, recuerda la coma:\n",
        "thistuple = (\"apple\",)\n",
        "print(type(thistuple))\n",
        "\n",
        "#NOT a tupla\n",
        "thistuple = (\"apple\")\n",
        "print(type(thistuple))"
      ],
      "metadata": {
        "colab": {
          "base_uri": "https://localhost:8080/"
        },
        "id": "GUlRnaCLwClE",
        "outputId": "b092bd1c-acc7-4200-9f29-91f1d00907ee"
      },
      "execution_count": null,
      "outputs": [
        {
          "output_type": "stream",
          "name": "stdout",
          "text": [
            "<class 'tuple'>\n",
            "<class 'str'>\n"
          ]
        }
      ]
    },
    {
      "cell_type": "markdown",
      "source": [
        "\n",
        "*   ELEMENTOS DE TUPLA: TIPOS DE DATOS\n",
        "\n"
      ],
      "metadata": {
        "id": "89IXSPiMwpKM"
      }
    },
    {
      "cell_type": "code",
      "source": [
        "#Tipos de datos de cadena, int y booleanos:\n",
        "tuple1 = (\"apple\", \"banana\", \"cherry\")\n",
        "tuple2 = (1, 5, 7, 9, 3)\n",
        "tuple3 = (True, False, False)\n",
        "print(tuple1)\n",
        "print(tuple2)\n",
        "print(tuple3)"
      ],
      "metadata": {
        "colab": {
          "base_uri": "https://localhost:8080/"
        },
        "id": "UPOaRzihwxC6",
        "outputId": "c013d11f-87dd-4754-b912-f767634967e5"
      },
      "execution_count": null,
      "outputs": [
        {
          "output_type": "stream",
          "name": "stdout",
          "text": [
            "('apple', 'banana', 'cherry')\n",
            "(1, 5, 7, 9, 3)\n",
            "(True, False, False)\n"
          ]
        }
      ]
    },
    {
      "cell_type": "markdown",
      "source": [
        "Una tupla puede contener diferentes tipos de datos:"
      ],
      "metadata": {
        "id": "yVY-tF19xKcg"
      }
    },
    {
      "cell_type": "code",
      "source": [
        "#Una tupla con cadenas, nemeros enteros y valores booleanos:\n",
        "tuple1 = (\"abc\", 34, True, 40, \"male\")\n",
        "print(tuple1)"
      ],
      "metadata": {
        "colab": {
          "base_uri": "https://localhost:8080/"
        },
        "id": "nchfC1h3xQOF",
        "outputId": "8ff4490b-d21f-46e4-ff13-d36cbbce81a4"
      },
      "execution_count": null,
      "outputs": [
        {
          "output_type": "stream",
          "name": "stdout",
          "text": [
            "('abc', 34, True, 40, 'male')\n"
          ]
        }
      ]
    },
    {
      "cell_type": "markdown",
      "source": [
        "\n",
        "*   TIPO()\n",
        "\n"
      ],
      "metadata": {
        "id": "pFbtWrgVxeyo"
      }
    },
    {
      "cell_type": "code",
      "source": [
        "#Cual es el tipo de datos de una tupla?\n",
        "mytuple = (\"apple\", \"banana\", \"cherry\")\n",
        "print(type(mytuple))"
      ],
      "metadata": {
        "colab": {
          "base_uri": "https://localhost:8080/"
        },
        "id": "QgidQoRaxkCw",
        "outputId": "1653dfb9-7303-458a-a351-52e184851805"
      },
      "execution_count": null,
      "outputs": [
        {
          "output_type": "stream",
          "name": "stdout",
          "text": [
            "<class 'tuple'>\n"
          ]
        }
      ]
    },
    {
      "cell_type": "markdown",
      "source": [
        "\n",
        "*   EL CONSTRUCTOR TUPLE()\n",
        "\n"
      ],
      "metadata": {
        "id": "k0xYMGSPyPUM"
      }
    },
    {
      "cell_type": "code",
      "source": [
        "#Usando el metodo tuple() para crear una tupla\n",
        "thistuple = tuple((\"apple\", \"banana\", \"cherry\")) # note the double round-brackets\n",
        "print(thistuple)"
      ],
      "metadata": {
        "colab": {
          "base_uri": "https://localhost:8080/"
        },
        "id": "CYpSkqRbyUf6",
        "outputId": "889924fa-7971-436e-bda2-d1c0e5e2acc8"
      },
      "execution_count": null,
      "outputs": [
        {
          "output_type": "stream",
          "name": "stdout",
          "text": [
            "('apple', 'banana', 'cherry')\n"
          ]
        }
      ]
    },
    {
      "cell_type": "markdown",
      "source": [
        "##ACCESO A ELEMENTOS DE TUPLAS"
      ],
      "metadata": {
        "id": "3JF4Xgz00QyI"
      }
    },
    {
      "cell_type": "markdown",
      "source": [
        "\n",
        "*   ACCEDER A ELEMENTTOS DE TUPLA\n",
        "\n"
      ],
      "metadata": {
        "id": "0g_hN6Sp0Uz7"
      }
    },
    {
      "cell_type": "code",
      "source": [
        "#Imprima el segundo elemento de la tupla:\n",
        "thistuple = (\"apple\", \"banana\", \"cherry\")\n",
        "print(thistuple[1])"
      ],
      "metadata": {
        "colab": {
          "base_uri": "https://localhost:8080/"
        },
        "id": "fMLjsC-C0ayy",
        "outputId": "fafb85a8-8101-4c4f-837a-d91d3fbbbe40"
      },
      "execution_count": null,
      "outputs": [
        {
          "output_type": "stream",
          "name": "stdout",
          "text": [
            "banana\n"
          ]
        }
      ]
    },
    {
      "cell_type": "markdown",
      "source": [
        "\n",
        "*   INDEXACION NEGATIVA\n",
        "\n"
      ],
      "metadata": {
        "id": "B0r2FDtz1bz5"
      }
    },
    {
      "cell_type": "code",
      "source": [
        "#Imrpima el ultimo elemento de la tupla:\n",
        "thistuple = (\"apple\", \"banana\", \"cherry\")\n",
        "print(thistuple[-1])"
      ],
      "metadata": {
        "colab": {
          "base_uri": "https://localhost:8080/"
        },
        "id": "3_ztjAlw1gAQ",
        "outputId": "02835af4-4540-4dc1-9756-1e0ccc96fe11"
      },
      "execution_count": null,
      "outputs": [
        {
          "output_type": "stream",
          "name": "stdout",
          "text": [
            "cherry\n"
          ]
        }
      ]
    },
    {
      "cell_type": "markdown",
      "source": [
        "\n",
        "*   RANGO DE INDICES\n",
        "\n",
        "\n"
      ],
      "metadata": {
        "id": "cUUj2vIp3uka"
      }
    },
    {
      "cell_type": "code",
      "source": [
        "#Devuelve el tercer, cuarto y quinto elemento:\n",
        "thistuple = (\"apple\", \"banana\", \"cherry\", \"orange\", \"kiwi\", \"melon\", \"mango\")\n",
        "print(thistuple[2:5])"
      ],
      "metadata": {
        "colab": {
          "base_uri": "https://localhost:8080/"
        },
        "id": "JzXZBSOI3o5u",
        "outputId": "c7a48326-29d6-4849-a4a1-2723641f7d8b"
      },
      "execution_count": null,
      "outputs": [
        {
          "output_type": "stream",
          "name": "stdout",
          "text": [
            "('cherry', 'orange', 'kiwi')\n"
          ]
        }
      ]
    },
    {
      "cell_type": "code",
      "source": [
        "#Este ejemplo devulve los elementos desde el principio hasta \"Kiwi\", pero  NO incluidos\n",
        "thistuple = (\"apple\", \"banana\", \"cherry\", \"orange\", \"kiwi\", \"melon\", \"mango\")\n",
        "print(thistuple[:4])"
      ],
      "metadata": {
        "colab": {
          "base_uri": "https://localhost:8080/"
        },
        "id": "8APzL9zw43dk",
        "outputId": "d952840d-7818-48ba-e8be-173f66fac70f"
      },
      "execution_count": null,
      "outputs": [
        {
          "output_type": "stream",
          "name": "stdout",
          "text": [
            "('apple', 'banana', 'cherry', 'orange')\n"
          ]
        }
      ]
    },
    {
      "cell_type": "code",
      "source": [
        "#Este ejemplo devuelve los elementos desde \"cherry\" hasta el final\n",
        "thistuple = (\"apple\", \"banana\", \"cherry\", \"orange\", \"kiwi\", \"melon\", \"mango\")\n",
        "print(thistuple[2:])"
      ],
      "metadata": {
        "colab": {
          "base_uri": "https://localhost:8080/"
        },
        "id": "LcWZgk6F5KyR",
        "outputId": "e377c92f-274d-4633-d9f2-a50f4f3c5a62"
      },
      "execution_count": null,
      "outputs": [
        {
          "output_type": "stream",
          "name": "stdout",
          "text": [
            "('cherry', 'orange', 'kiwi', 'melon', 'mango')\n"
          ]
        }
      ]
    },
    {
      "cell_type": "markdown",
      "source": [
        "\n",
        "*   RANGO DE INDICES NEGATIVOS\n",
        "\n"
      ],
      "metadata": {
        "id": "U20jPWuy5fgJ"
      }
    },
    {
      "cell_type": "code",
      "source": [
        "#Este ejemplo devuelve los elementos del indice -4 (incluido) al indice -1 (excluido)\n",
        "thistuple = (\"apple\", \"banana\", \"cherry\", \"orange\", \"kiwi\", \"melon\", \"mango\")\n",
        "print(thistuple[-4:-1])"
      ],
      "metadata": {
        "colab": {
          "base_uri": "https://localhost:8080/"
        },
        "id": "5vnAbWGm5nKe",
        "outputId": "be0022d2-547f-437d-da45-ae4c21ef3479"
      },
      "execution_count": null,
      "outputs": [
        {
          "output_type": "stream",
          "name": "stdout",
          "text": [
            "('orange', 'kiwi', 'melon')\n"
          ]
        }
      ]
    },
    {
      "cell_type": "markdown",
      "source": [
        "\n",
        "*   COMPROBAR SI EL ARTICULO EXISTE\n",
        "\n"
      ],
      "metadata": {
        "id": "xu2sm9ox7dfa"
      }
    },
    {
      "cell_type": "code",
      "source": [
        "#Compruebe si \"manzana\" este presente en la tupla:\n",
        "thistuple = (\"apple\", \"banana\", \"cherry\")\n",
        "if \"apple\" in thistuple:\n",
        "  print(\"Yes, 'apple' is in the fruits tuple\")"
      ],
      "metadata": {
        "colab": {
          "base_uri": "https://localhost:8080/"
        },
        "id": "dqpcfa1A7ivM",
        "outputId": "cc7588e6-4bdf-4e88-acec-a8f6434a2980"
      },
      "execution_count": null,
      "outputs": [
        {
          "output_type": "stream",
          "name": "stdout",
          "text": [
            "Yes, 'apple' is in the fruits tuple\n"
          ]
        }
      ]
    },
    {
      "cell_type": "markdown",
      "source": [
        "##ACTUALIZAR TUPLAS\n",
        "\n"
      ],
      "metadata": {
        "id": "KVG7QM_lcozW"
      }
    },
    {
      "cell_type": "code",
      "source": [
        "#Convierte la tupla en una lista para poder modificarla\n",
        "x = (\"apple\", \"banana\", \"cherry\")\n",
        "y = list(x)\n",
        "y[1] = \"kiwi\"\n",
        "x = tuple(y)\n",
        "print(x)"
      ],
      "metadata": {
        "colab": {
          "base_uri": "https://localhost:8080/"
        },
        "id": "ZPOnDAa-dCeH",
        "outputId": "f9dc7777-6ba1-46dc-d052-99d1c65a6417"
      },
      "execution_count": null,
      "outputs": [
        {
          "output_type": "stream",
          "name": "stdout",
          "text": [
            "('apple', 'kiwi', 'cherry')\n"
          ]
        }
      ]
    },
    {
      "cell_type": "markdown",
      "source": [
        "\n",
        "*   AGREGAR ARTÍCULOS\n",
        "\n"
      ],
      "metadata": {
        "id": "AumDFRxdev5z"
      }
    },
    {
      "cell_type": "code",
      "source": [
        "#Convierte la tupla en una lista, agrega \"naranja\" y conviertela nuevamente en una tupla:\n",
        "thistuple = (\"apple\", \"banana\", \"cherry\")\n",
        "y = list(thistuple)\n",
        "y.append(\"orange\")\n",
        "thistuple = tuple(y)\n",
        "print(thistuple)"
      ],
      "metadata": {
        "colab": {
          "base_uri": "https://localhost:8080/"
        },
        "id": "Hz41nzdqfGGn",
        "outputId": "847809b6-0722-4210-84df-6ce4741ca203"
      },
      "execution_count": null,
      "outputs": [
        {
          "output_type": "stream",
          "name": "stdout",
          "text": [
            "('apple', 'banana', 'cherry', 'orange')\n"
          ]
        }
      ]
    },
    {
      "cell_type": "code",
      "source": [
        "#Crea una nueva tupla con el valor \"naranja\" y agrega esa tupla:\n",
        "thistuple = (\"apple\", \"banana\", \"cherry\")\n",
        "y = (\"orange\",)\n",
        "thistuple += y\n",
        "\n",
        "print(thistuple)"
      ],
      "metadata": {
        "colab": {
          "base_uri": "https://localhost:8080/"
        },
        "id": "9XS3d4hAgpMa",
        "outputId": "5449c3ce-9535-4159-ec55-e97206cbb127"
      },
      "execution_count": null,
      "outputs": [
        {
          "output_type": "stream",
          "name": "stdout",
          "text": [
            "('apple', 'banana', 'cherry', 'orange')\n"
          ]
        }
      ]
    },
    {
      "cell_type": "markdown",
      "source": [
        "\n",
        "*   ELIMINAR ELEMENTOS\n",
        "\n"
      ],
      "metadata": {
        "id": "5KjeNQZ_g5qO"
      }
    },
    {
      "cell_type": "code",
      "source": [
        "#Convierte la tupla en una lista, elimina \"manzana\" y conviertela nuevamente en una tupla\n",
        "thistuple = (\"apple\", \"banana\", \"cherry\")\n",
        "y = list(thistuple)\n",
        "y.remove(\"apple\")\n",
        "thistuple = tuple(y)\n",
        "print(thistuple)"
      ],
      "metadata": {
        "colab": {
          "base_uri": "https://localhost:8080/"
        },
        "id": "31_inBCLg-Yr",
        "outputId": "12e40ec5-65a8-441e-f4b6-a1b4017de0c0"
      },
      "execution_count": null,
      "outputs": [
        {
          "output_type": "stream",
          "name": "stdout",
          "text": [
            "('banana', 'cherry')\n"
          ]
        }
      ]
    },
    {
      "cell_type": "markdown",
      "source": [
        "##DESCOMPRIMIR TUPLAS"
      ],
      "metadata": {
        "id": "pp_Q2uIfkL-s"
      }
    },
    {
      "cell_type": "markdown",
      "source": [
        "\n",
        "*   EMPAQUETANDO UNA TUPLA\n",
        "\n"
      ],
      "metadata": {
        "id": "xx8BRaxBkVWE"
      }
    },
    {
      "cell_type": "code",
      "source": [
        "#Empaquetando una tupla\n",
        "fruits = (\"apple\", \"banana\", \"cherry\")"
      ],
      "metadata": {
        "id": "lDAvK7vpkQMB"
      },
      "execution_count": null,
      "outputs": []
    },
    {
      "cell_type": "markdown",
      "source": [
        "\n",
        "*    DESEMPAQUETANDO UNA TUPLA\n",
        "\n"
      ],
      "metadata": {
        "id": "_NmTrOxBk-NO"
      }
    },
    {
      "cell_type": "code",
      "source": [
        "#Desempaquetando una tupla\n",
        "fruits = (\"apple\", \"banana\", \"cherry\")\n",
        "\n",
        "(green, yellow, red) = fruits\n",
        "\n",
        "print(green)\n",
        "print(yellow)\n",
        "print(red)"
      ],
      "metadata": {
        "colab": {
          "base_uri": "https://localhost:8080/"
        },
        "id": "_cyxLtADlDSI",
        "outputId": "2e84f82a-3a3b-4fb5-8bf5-f6f5e98c44c3"
      },
      "execution_count": null,
      "outputs": [
        {
          "output_type": "stream",
          "name": "stdout",
          "text": [
            "apple\n",
            "banana\n",
            "cherry\n"
          ]
        }
      ]
    },
    {
      "cell_type": "markdown",
      "source": [
        "\n",
        "*   USANDO ASTERISCO\n",
        "\n"
      ],
      "metadata": {
        "id": "YpoKWN_Gl-86"
      }
    },
    {
      "cell_type": "code",
      "source": [
        "#Asigna el resto de valores como una lista llamado \"rojo\"\n",
        "fruits = (\"apple\", \"banana\", \"cherry\", \"strawberry\", \"raspberry\")\n",
        "\n",
        "(green, yellow, *red) = fruits\n",
        "\n",
        "print(green)\n",
        "print(yellow)\n",
        "print(red)"
      ],
      "metadata": {
        "colab": {
          "base_uri": "https://localhost:8080/"
        },
        "id": "uIJap1g0mDXT",
        "outputId": "065e4037-e7b1-4ca3-9692-498123568901"
      },
      "execution_count": null,
      "outputs": [
        {
          "output_type": "stream",
          "name": "stdout",
          "text": [
            "apple\n",
            "banana\n",
            "['cherry', 'strawberry', 'raspberry']\n"
          ]
        }
      ]
    },
    {
      "cell_type": "code",
      "source": [
        "#Añade una lista de valores a la variable \"trópico\"\n",
        "fruits = (\"apple\", \"mango\", \"papaya\", \"pineapple\", \"cherry\")\n",
        "(green, *tropic, red) = fruits\n",
        "\n",
        "print(green)\n",
        "print(tropic)\n",
        "print(red)"
      ],
      "metadata": {
        "colab": {
          "base_uri": "https://localhost:8080/"
        },
        "id": "XVJeotDkrKsB",
        "outputId": "ef528676-76da-4a72-bc41-afad353ca1db"
      },
      "execution_count": null,
      "outputs": [
        {
          "output_type": "stream",
          "name": "stdout",
          "text": [
            "apple\n",
            "['mango', 'papaya', 'pineapple']\n",
            "cherry\n"
          ]
        }
      ]
    },
    {
      "cell_type": "markdown",
      "source": [
        "##TUPLAS DE BUCLE"
      ],
      "metadata": {
        "id": "YPxB0GvMtvVm"
      }
    },
    {
      "cell_type": "markdown",
      "source": [
        "\n",
        "*   RECORRER UNA TUPLA EN BUCLE\n",
        "\n"
      ],
      "metadata": {
        "id": "4THW3E_HtyXt"
      }
    },
    {
      "cell_type": "code",
      "source": [
        "#Iterar a tráves de los elementos e imprimir los valores:\n",
        "thistuple = (\"apple\", \"banana\", \"cherry\")\n",
        "for x in thistuple:\n",
        "  print(x)"
      ],
      "metadata": {
        "colab": {
          "base_uri": "https://localhost:8080/"
        },
        "id": "XVVxIjF7t7K0",
        "outputId": "0d1827ae-7eb4-49f7-a15e-fc3533f1e8ef"
      },
      "execution_count": null,
      "outputs": [
        {
          "output_type": "stream",
          "name": "stdout",
          "text": [
            "apple\n",
            "banana\n",
            "cherry\n"
          ]
        }
      ]
    },
    {
      "cell_type": "markdown",
      "source": [
        "\n",
        "*   RECORRER LOS NÚMEROS DE ÍNDICE\n",
        "\n"
      ],
      "metadata": {
        "id": "nZInEPmQxJph"
      }
    },
    {
      "cell_type": "code",
      "source": [
        "#Imprima todos los artículos consultando su número de índice\n",
        "thistuple = (\"apple\", \"banana\", \"cherry\")\n",
        "for i in range(len(thistuple)):\n",
        "  print(thistuple[i])"
      ],
      "metadata": {
        "colab": {
          "base_uri": "https://localhost:8080/"
        },
        "id": "tnvC9uAwxPU-",
        "outputId": "2c2ef2ff-2c5d-41b2-fa8b-bb58c04a63f8"
      },
      "execution_count": null,
      "outputs": [
        {
          "output_type": "stream",
          "name": "stdout",
          "text": [
            "apple\n",
            "banana\n",
            "cherry\n"
          ]
        }
      ]
    },
    {
      "cell_type": "code",
      "source": [
        "#Imprimir todos los elementos, utilizando un while bucle para recorrer todos los números de índice\n",
        "thistuple = (\"apple\", \"banana\", \"cherry\")\n",
        "i = 0\n",
        "while i < len(thistuple):\n",
        "  print(thistuple[i])\n",
        "  i = i + 1"
      ],
      "metadata": {
        "colab": {
          "base_uri": "https://localhost:8080/"
        },
        "id": "HmC9f6GFzz78",
        "outputId": "bc6d2b36-a416-42b9-a209-5ec3692e0cee"
      },
      "execution_count": null,
      "outputs": [
        {
          "output_type": "stream",
          "name": "stdout",
          "text": [
            "apple\n",
            "banana\n",
            "cherry\n"
          ]
        }
      ]
    },
    {
      "cell_type": "markdown",
      "source": [
        "##UNIR TUPLAS"
      ],
      "metadata": {
        "id": "--inPcIZ0ZBf"
      }
    },
    {
      "cell_type": "code",
      "source": [
        "#Unir dos tuplas\n",
        "tuple1 = (\"a\", \"b\" , \"c\")\n",
        "tuple2 = (1, 2, 3)\n",
        "\n",
        "tuple3 = tuple1 + tuple2\n",
        "print(tuple3)"
      ],
      "metadata": {
        "colab": {
          "base_uri": "https://localhost:8080/"
        },
        "id": "Ex_nDggN0eMW",
        "outputId": "0fcac345-25f0-407e-a358-1ef3239e708d"
      },
      "execution_count": null,
      "outputs": [
        {
          "output_type": "stream",
          "name": "stdout",
          "text": [
            "('a', 'b', 'c', 1, 2, 3)\n"
          ]
        }
      ]
    },
    {
      "cell_type": "markdown",
      "source": [
        "\n",
        "*   MULTIPLICAR TUPLAS\n",
        "\n"
      ],
      "metadata": {
        "id": "DZr62FOg1Bjy"
      }
    },
    {
      "cell_type": "code",
      "source": [
        "#Multiplica la tupla de frutas por 2\n",
        "fruits = (\"apple\", \"banana\", \"cherry\")\n",
        "mytuple = fruits * 2\n",
        "\n",
        "print(mytuple)"
      ],
      "metadata": {
        "colab": {
          "base_uri": "https://localhost:8080/"
        },
        "id": "PXvjIGH51GOb",
        "outputId": "8f7c6110-5d49-4456-f3e9-370821b15da8"
      },
      "execution_count": null,
      "outputs": [
        {
          "output_type": "stream",
          "name": "stdout",
          "text": [
            "('apple', 'banana', 'cherry', 'apple', 'banana', 'cherry')\n"
          ]
        }
      ]
    },
    {
      "cell_type": "markdown",
      "source": [
        "##CONJUNTOS DE PYTHON"
      ],
      "metadata": {
        "id": "vhHTPjOo4AcX"
      }
    },
    {
      "cell_type": "code",
      "source": [
        "#Crear un conjunto:\n",
        "thisset = {\"apple\", \"banana\", \"cherry\"}\n",
        "print(thisset)"
      ],
      "metadata": {
        "colab": {
          "base_uri": "https://localhost:8080/"
        },
        "id": "PhjExH5J4DKa",
        "outputId": "a2c9fab6-75f9-4864-9f12-3375e04ad688"
      },
      "execution_count": null,
      "outputs": [
        {
          "output_type": "stream",
          "name": "stdout",
          "text": [
            "{'apple', 'cherry', 'banana'}\n"
          ]
        }
      ]
    },
    {
      "cell_type": "markdown",
      "source": [
        "\n",
        "*   DUPLICADOS NO PERMITIDOS\n",
        "\n"
      ],
      "metadata": {
        "id": "SoIFii83_vSr"
      }
    },
    {
      "cell_type": "code",
      "source": [
        "#Los valores duplicados serán ignorados\n",
        "thisset = {\"apple\", \"banana\", \"cherry\", \"apple\"}\n",
        "print(thisset)"
      ],
      "metadata": {
        "colab": {
          "base_uri": "https://localhost:8080/"
        },
        "id": "6bQN2uV3_1I3",
        "outputId": "c4f11f08-7d85-4819-e932-0bec135910f0"
      },
      "execution_count": null,
      "outputs": [
        {
          "output_type": "stream",
          "name": "stdout",
          "text": [
            "{'apple', 'cherry', 'banana'}\n"
          ]
        }
      ]
    },
    {
      "cell_type": "code",
      "source": [
        "#True y 1 se considera el mismo valor:\n",
        "thisset = {\"apple\", \"banana\", \"cherry\", True, 1, 2}\n",
        "print(thisset)"
      ],
      "metadata": {
        "colab": {
          "base_uri": "https://localhost:8080/"
        },
        "id": "YL85xK0WAcX6",
        "outputId": "e95f421a-2562-4554-ec31-84909053de4e"
      },
      "execution_count": null,
      "outputs": [
        {
          "output_type": "stream",
          "name": "stdout",
          "text": [
            "{True, 2, 'apple', 'banana', 'cherry'}\n"
          ]
        }
      ]
    },
    {
      "cell_type": "code",
      "source": [
        "#False y 0 se considera el mismo valor:\n",
        "thisset = {\"apple\", \"banana\", \"cherry\", False, 0}\n",
        "print(thisset)"
      ],
      "metadata": {
        "colab": {
          "base_uri": "https://localhost:8080/"
        },
        "id": "P7NteeVJBOVD",
        "outputId": "ace3cbde-d48d-482a-f505-b015d2e68a8e"
      },
      "execution_count": null,
      "outputs": [
        {
          "output_type": "stream",
          "name": "stdout",
          "text": [
            "{False, 'apple', 'cherry', 'banana'}\n"
          ]
        }
      ]
    },
    {
      "cell_type": "markdown",
      "source": [
        "\n",
        "*   OBTENER LA LONGITUD DE UN CONJUNTO\n",
        "\n"
      ],
      "metadata": {
        "id": "Ii8pU14QBX7A"
      }
    },
    {
      "cell_type": "code",
      "source": [
        "#Obtener el número de elementos en un conjunto\n",
        "thisset = {\"apple\", \"banana\", \"cherry\"}\n",
        "print(len(thisset))"
      ],
      "metadata": {
        "colab": {
          "base_uri": "https://localhost:8080/"
        },
        "id": "sUfCc6mUBdof",
        "outputId": "6164210c-6495-4857-c482-69a6390a36e4"
      },
      "execution_count": null,
      "outputs": [
        {
          "output_type": "stream",
          "name": "stdout",
          "text": [
            "3\n"
          ]
        }
      ]
    },
    {
      "cell_type": "markdown",
      "source": [
        "\n",
        "*   ELEMENTOS DEL CONJUNTO: TIPOS DE DATOS\n",
        "\n"
      ],
      "metadata": {
        "id": "MWWkWY8PCIpO"
      }
    },
    {
      "cell_type": "code",
      "source": [
        "#Tipos de datos de cadena , int y booleanos:\n",
        "set1 = {\"apple\", \"banana\", \"cherry\"}\n",
        "set2 = {1, 5, 7, 9, 3}\n",
        "set3 = {True, False, False}\n",
        "print(set1)\n",
        "print(set2)\n",
        "print(set3)"
      ],
      "metadata": {
        "colab": {
          "base_uri": "https://localhost:8080/"
        },
        "id": "Uw9HrBiyCNvR",
        "outputId": "bd3d9a26-cb10-4001-e126-f3a2bd209c6d"
      },
      "execution_count": null,
      "outputs": [
        {
          "output_type": "stream",
          "name": "stdout",
          "text": [
            "{'apple', 'cherry', 'banana'}\n",
            "{1, 3, 5, 7, 9}\n",
            "{False, True}\n"
          ]
        }
      ]
    },
    {
      "cell_type": "code",
      "source": [
        "#Un conjunto con cadenas, números enteros y valores booleanos\n",
        "set1 = {\"abc\", 34, True, 40, \"male\"}\n",
        "print(set1)\n"
      ],
      "metadata": {
        "colab": {
          "base_uri": "https://localhost:8080/"
        },
        "id": "KmwS_NFWCqf8",
        "outputId": "c8f6afc5-a5e1-4be7-c27a-c05260c43518"
      },
      "execution_count": null,
      "outputs": [
        {
          "output_type": "stream",
          "name": "stdout",
          "text": [
            "{True, 34, 'male', 40, 'abc'}\n"
          ]
        }
      ]
    },
    {
      "cell_type": "markdown",
      "source": [
        "\n",
        "*   TIPO()\n",
        "\n"
      ],
      "metadata": {
        "id": "ZZtbp6nYCzqE"
      }
    },
    {
      "cell_type": "code",
      "source": [
        "#cual es el tipo de datos de un conjunto?\n",
        "myset = {\"apple\", \"banana\", \"cherry\"}\n",
        "print(type(myset))"
      ],
      "metadata": {
        "colab": {
          "base_uri": "https://localhost:8080/"
        },
        "id": "-N7k2VhfC4Xq",
        "outputId": "52e6646c-d92e-4542-ba45-5631cb19a396"
      },
      "execution_count": null,
      "outputs": [
        {
          "output_type": "stream",
          "name": "stdout",
          "text": [
            "<class 'set'>\n"
          ]
        }
      ]
    },
    {
      "cell_type": "markdown",
      "source": [
        "\n",
        "*   EL CONSTRUCTOR SET()\n",
        "\n"
      ],
      "metadata": {
        "id": "Ns932vStDVxY"
      }
    },
    {
      "cell_type": "code",
      "source": [
        "#Usando el constructor set() para crear un conjunto\n",
        "thisset = set((\"apple\", \"banana\", \"cherry\")) # note the double round-brackets\n",
        "print(thisset)"
      ],
      "metadata": {
        "colab": {
          "base_uri": "https://localhost:8080/"
        },
        "id": "IDPcPS2RDe09",
        "outputId": "91d57cc2-0384-4d52-8d1c-40bc1855e5b6"
      },
      "execution_count": null,
      "outputs": [
        {
          "output_type": "stream",
          "name": "stdout",
          "text": [
            "{'apple', 'cherry', 'banana'}\n"
          ]
        }
      ]
    }
  ]
}